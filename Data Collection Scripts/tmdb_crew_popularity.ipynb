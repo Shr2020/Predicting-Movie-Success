{
 "cells": [
  {
   "cell_type": "code",
   "execution_count": 19,
   "metadata": {},
   "outputs": [],
   "source": [
    "from tmdbv3api import TMDb, Movie, Search, Person\n",
    "import glob\n",
    "import pandas as pd\n",
    "import pprint"
   ]
  },
  {
   "cell_type": "code",
   "execution_count": 20,
   "metadata": {},
   "outputs": [],
   "source": [
    "tmdb = TMDb()\n",
    "tmdb.api_key = 'bcbe1d25e50f5f28434c347ca911d198'\n",
    "\n",
    "tmdb.language = 'en'\n",
    "tmdb.debug = True"
   ]
  },
  {
   "cell_type": "code",
   "execution_count": 50,
   "metadata": {},
   "outputs": [],
   "source": [
    "person = Person()\n",
    "movies = pd.read_csv(\"complete-data.csv\")\n",
    "movies.loc[:, 'director_popularity'] = 0\n",
    "movies.loc[:, 'producer_popularity'] = 0\n"
   ]
  },
  {
   "cell_type": "code",
   "execution_count": 51,
   "metadata": {},
   "outputs": [],
   "source": [
    "movies['Producer'] = movies['Producer'].astype(str)\n",
    "movies['Director'] = movies['Director'].astype(str)"
   ]
  },
  {
   "cell_type": "code",
   "execution_count": 53,
   "metadata": {},
   "outputs": [],
   "source": [
    "for ind, movie in movies.iterrows():\n",
    "    director = movie['Director']\n",
    "    if director:\n",
    "        search = person.search(term=director)\n",
    "        if search:\n",
    "            movies.loc[ind, 'director_popularity'] = search[0]['popularity']\n",
    "    \n",
    "    producers = movie['Producer']\n",
    "    pop = []\n",
    "    if producers:\n",
    "        for producer in producers.split(','):\n",
    "            if producer:\n",
    "                search = person.search(term=producer)\n",
    "                if search:\n",
    "                    pop.append(search[0]['popularity'])\n",
    "        if pop:\n",
    "            movies.loc[ind, 'producer_popularity'] = sum(pop) / len(pop)\n"
   ]
  },
  {
   "cell_type": "code",
   "execution_count": 55,
   "metadata": {},
   "outputs": [],
   "source": [
    "movies.to_csv('complete-date-pop.csv')"
   ]
  }
 ],
 "metadata": {
  "interpreter": {
   "hash": "f441965f993d937e778dd2dba94be893303e856283aa923904bad3df4cd92a01"
  },
  "kernelspec": {
   "display_name": "Python 3.9.7 ('base')",
   "language": "python",
   "name": "python3"
  },
  "language_info": {
   "codemirror_mode": {
    "name": "ipython",
    "version": 3
   },
   "file_extension": ".py",
   "mimetype": "text/x-python",
   "name": "python",
   "nbconvert_exporter": "python",
   "pygments_lexer": "ipython3",
   "version": "3.9.7"
  },
  "orig_nbformat": 4
 },
 "nbformat": 4,
 "nbformat_minor": 2
}
