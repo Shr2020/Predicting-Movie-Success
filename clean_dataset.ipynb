{
 "cells": [
  {
   "cell_type": "code",
   "execution_count": 1,
   "metadata": {},
   "outputs": [],
   "source": [
    "import pandas as pd"
   ]
  },
  {
   "cell_type": "code",
   "execution_count": 3,
   "metadata": {},
   "outputs": [],
   "source": [
    "movies = pd.read_csv(\"complete-date-pop.csv\")"
   ]
  },
  {
   "cell_type": "code",
   "execution_count": 4,
   "metadata": {},
   "outputs": [
    {
     "data": {
      "text/plain": [
       "Index(['Unnamed: 0', 'Unnamed: 0.1', 'Unnamed: 0.1.1', 'index', 'Movie Title',\n",
       "       'actor1', 'actor1_popularity', 'actor2', 'actor2_popularity', 'actor3',\n",
       "       'actor3_popularity', 'actor4', 'actor4_popularity', 'actor5',\n",
       "       'actor5_popularity', 'budget', 'tmdb_popularity', 'revenue', 'runtime',\n",
       "       'imdbRating', 'imdbNumVotes', 'originalTitle', 'isAdult',\n",
       "       'runtimeMinutes', 'genres', 'Rank', 'Worldwide', 'Domestic', '%',\n",
       "       'Foreign', '0.10%', 'Score_Rotten', 'Score_Rotten_Audience', 'Rating',\n",
       "       'Director', 'Producer', 'Box Office (Gross USA)', 'Release-Date',\n",
       "       'Revenue', 'NumTheatres', 'Production', 'startdate',\n",
       "       'mean_google_trend_popularity', 'Revenue-1', 'director_popularity',\n",
       "       'producer_popularity'],\n",
       "      dtype='object')"
      ]
     },
     "execution_count": 4,
     "metadata": {},
     "output_type": "execute_result"
    }
   ],
   "source": [
    "movies.columns"
   ]
  },
  {
   "cell_type": "code",
   "execution_count": 5,
   "metadata": {},
   "outputs": [],
   "source": [
    "movies = movies.drop(columns=['Unnamed: 0', 'Unnamed: 0.1', 'index', 'actor1', 'actor2','actor3','actor4','actor5','originalTitle','isAdult', 'Rank', '%',\n",
    "       'Foreign', '0.10%', 'Director', 'Producer', 'startdate'])"
   ]
  },
  {
   "cell_type": "code",
   "execution_count": 6,
   "metadata": {},
   "outputs": [
    {
     "data": {
      "text/plain": [
       "Index(['Unnamed: 0.1.1', 'Movie Title', 'actor1_popularity',\n",
       "       'actor2_popularity', 'actor3_popularity', 'actor4_popularity',\n",
       "       'actor5_popularity', 'budget', 'tmdb_popularity', 'revenue', 'runtime',\n",
       "       'imdbRating', 'imdbNumVotes', 'runtimeMinutes', 'genres', 'Worldwide',\n",
       "       'Domestic', 'Score_Rotten', 'Score_Rotten_Audience', 'Rating',\n",
       "       'Box Office (Gross USA)', 'Release-Date', 'Revenue', 'NumTheatres',\n",
       "       'Production', 'mean_google_trend_popularity', 'Revenue-1',\n",
       "       'director_popularity', 'producer_popularity'],\n",
       "      dtype='object')"
      ]
     },
     "execution_count": 6,
     "metadata": {},
     "output_type": "execute_result"
    }
   ],
   "source": [
    "movies['cast_popularity'] = movies['actor1_popularity'] + movies['actor2_popularity'] + movies['actor3_popularity'] + movies['actor4_popularity'] + movies['actor5_popularity']"
   ]
  },
  {
   "cell_type": "code",
   "execution_count": 7,
   "metadata": {},
   "outputs": [],
   "source": [
    "movies.loc[:, 'actors_popularity'] = 0\n",
    "for ind, movie in movies.iterrows():\n",
    "    actors = []\n",
    "    if movie['actor1_popularity']:\n",
    "        actors.append(movie['actor1_popularity'])\n",
    "    if movie['actor2_popularity']:\n",
    "        actors.append(movie['actor2_popularity'])\n",
    "    if movie['actor3_popularity']:\n",
    "        actors.append(movie['actor3_popularity'])\n",
    "    if movie['actor4_popularity']:\n",
    "        actors.append(movie['actor4_popularity'])\n",
    "    if movie['actor5_popularity']:\n",
    "        actors.append(movie['actor5_popularity'])\n",
    "    \n",
    "    if actors:\n",
    "        movies.loc[ind, 'actors_popularity'] = sum(actors) / len(actors)"
   ]
  },
  {
   "cell_type": "code",
   "execution_count": 9,
   "metadata": {},
   "outputs": [],
   "source": [
    "movies = movies.drop(columns=['actor1_popularity', 'actor2_popularity', 'actor3_popularity', 'actor4_popularity', 'actor5_popularity'])"
   ]
  },
  {
   "cell_type": "code",
   "execution_count": 12,
   "metadata": {},
   "outputs": [],
   "source": [
    "movies = movies.drop(columns=['Unnamed: 0.1.1'])"
   ]
  },
  {
   "cell_type": "code",
   "execution_count": 14,
   "metadata": {},
   "outputs": [
    {
     "data": {
      "text/plain": [
       "Index(['Movie Title', 'budget', 'tmdb_popularity', 'revenue', 'runtime',\n",
       "       'imdbRating', 'imdbNumVotes', 'runtimeMinutes', 'genres', 'Worldwide',\n",
       "       'Domestic', 'Score_Rotten', 'Score_Rotten_Audience', 'Rating',\n",
       "       'Box Office (Gross USA)', 'Release-Date', 'Revenue', 'NumTheatres',\n",
       "       'Production', 'mean_google_trend_popularity', 'Revenue-1',\n",
       "       'director_popularity', 'producer_popularity', 'actors_popularity'],\n",
       "      dtype='object')"
      ]
     },
     "execution_count": 14,
     "metadata": {},
     "output_type": "execute_result"
    }
   ],
   "source": [
    "movies.columns"
   ]
  },
  {
   "cell_type": "code",
   "execution_count": 19,
   "metadata": {},
   "outputs": [],
   "source": [
    "movies.loc[:, 'Revenue-Worldwide'] = movies[['revenue', 'Worldwide']].max(axis=1)"
   ]
  },
  {
   "cell_type": "code",
   "execution_count": 21,
   "metadata": {},
   "outputs": [],
   "source": [
    "movies = movies.drop(columns=['Worldwide', 'revenue', 'Revenue-Worldwide-Final'])"
   ]
  },
  {
   "cell_type": "code",
   "execution_count": 23,
   "metadata": {},
   "outputs": [
    {
     "name": "stderr",
     "output_type": "stream",
     "text": [
      "C:\\Users\\aan22\\AppData\\Local\\Temp/ipykernel_6912/1475653791.py:1: FutureWarning: Dropping of nuisance columns in DataFrame reductions (with 'numeric_only=None') is deprecated; in a future version this will raise TypeError.  Select only valid columns before calling the reduction.\n",
      "  movies.loc[:, 'Revenue-Domestic'] = movies[['Domestic', 'Box Office (Gross USA)', 'Revenue', 'Revenue-1']].max(axis=1)\n"
     ]
    }
   ],
   "source": [
    "movies.loc[:, 'Revenue-Domestic'] = movies[['Domestic', 'Box Office (Gross USA)', 'Revenue', 'Revenue-1']].max(axis=1)"
   ]
  },
  {
   "cell_type": "code",
   "execution_count": 25,
   "metadata": {},
   "outputs": [],
   "source": [
    "movies = movies.drop(columns=['Domestic', 'Box Office (Gross USA)', 'Revenue', 'Revenue-1'])"
   ]
  },
  {
   "cell_type": "code",
   "execution_count": 27,
   "metadata": {},
   "outputs": [],
   "source": [
    "movies = movies.drop(columns=['runtime'])"
   ]
  },
  {
   "cell_type": "code",
   "execution_count": 42,
   "metadata": {},
   "outputs": [],
   "source": [
    "movies.to_csv('cleaned_dataset_v2.csv')"
   ]
  },
  {
   "cell_type": "code",
   "execution_count": 40,
   "metadata": {},
   "outputs": [],
   "source": [
    "movies = movies.drop(columns=['Production'])"
   ]
  }
 ],
 "metadata": {
  "interpreter": {
   "hash": "f441965f993d937e778dd2dba94be893303e856283aa923904bad3df4cd92a01"
  },
  "kernelspec": {
   "display_name": "Python 3.9.7 ('base')",
   "language": "python",
   "name": "python3"
  },
  "language_info": {
   "codemirror_mode": {
    "name": "ipython",
    "version": 3
   },
   "file_extension": ".py",
   "mimetype": "text/x-python",
   "name": "python",
   "nbconvert_exporter": "python",
   "pygments_lexer": "ipython3",
   "version": "3.9.7"
  },
  "orig_nbformat": 4
 },
 "nbformat": 4,
 "nbformat_minor": 2
}
