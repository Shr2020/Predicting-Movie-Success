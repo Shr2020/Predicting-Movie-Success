{
 "cells": [
  {
   "cell_type": "code",
   "execution_count": 29,
   "metadata": {},
   "outputs": [],
   "source": [
    "import requests\n",
    "import urllib.request\n",
    "import time\n",
    "from bs4 import BeautifulSoup\n",
    "import numpy as np\n",
    "import pandas as pd\n",
    "from urllib.request import urlopen\n",
    "import re"
   ]
  },
  {
   "cell_type": "code",
   "execution_count": 30,
   "metadata": {},
   "outputs": [],
   "source": [
    "data = []"
   ]
  },
  {
   "cell_type": "code",
   "execution_count": 31,
   "metadata": {},
   "outputs": [],
   "source": [
    "movie = 'The way back'\n",
    "year = 2010\n",
    "url = 'https://en.wikipedia.org/wiki/The_Way_Back_(2010_film)'"
   ]
  },
  {
   "cell_type": "code",
   "execution_count": 34,
   "metadata": {},
   "outputs": [
    {
     "name": "stdout",
     "output_type": "stream",
     "text": [
      "\n",
      "September 3, 2010 (2010-09-03) (Telluride Film Festival)\n",
      "December 29, 2010 (2010-12-29) (United States)\n",
      "\n",
      "$30 million[1]\n"
     ]
    }
   ],
   "source": [
    "\n",
    "html = urlopen(url)\n",
    "soup = BeautifulSoup(html, 'html.parser')\n",
    "tables = soup.find_all('table')\n",
    "details = {}\n",
    "for table in tables:\n",
    "    budgetflag = False\n",
    "    rdflag = False\n",
    "    budget = ''\n",
    "    clbud = ''\n",
    "    rd = ''\n",
    "    rows = table.find_all('tr')\n",
    "    for row in rows:\n",
    "        cells = row.find_all('th')\n",
    "        for cell in cells:\n",
    "            if cell.text == 'Release dates' or cell.text == 'Release date':\n",
    "                rdflag = True\n",
    "            elif cell.text == 'Budget':\n",
    "                budgetflag = True\n",
    "        \n",
    "        if budgetflag:\n",
    "            cells = row.find_all('td')\n",
    "            for cell in cells:\n",
    "                print(cell.text)\n",
    "                budget = cell.text\n",
    "                clbud = budget.replace(',', '')\n",
    "                clbud = re.findall('[0-9]+', clbud)[-1]\n",
    "                # if 'million' in budget:\n",
    "                #     d = budget.split(' ')\n",
    "                #     money = d[0][1:]\n",
    "                #     money = float(money) * 10**6\n",
    "                # elif 'billion' in budget:\n",
    "                #     d = budget.split(' ')\n",
    "                #     money = d[0][1:]\n",
    "                #     money = float(money) * 10**8\n",
    "\n",
    "            budgetflag = False\n",
    "        \n",
    "        if rdflag:\n",
    "            cells = row.find_all('td')\n",
    "            for cell in cells:\n",
    "                print(cell.text)\n",
    "                rd = cell.text\n",
    "                rd = rd.split(' ')[1].replace('(', '').replace(')', '')\n",
    "\n",
    "            rdflag = False\n",
    "    details = {'moviename': movie, 'release_date': rd, 'budget': budget, 'year': year, 'cleaned_budget': clbud}\n",
    "    break\n",
    "data.append(details)\n"
   ]
  },
  {
   "cell_type": "code",
   "execution_count": 35,
   "metadata": {},
   "outputs": [
    {
     "data": {
      "text/plain": [
       "{'moviename': 'The way back',\n",
       " 'release_date': 'Telluride',\n",
       " 'budget': '$30 million[1]',\n",
       " 'year': 2010,\n",
       " 'cleaned_budget': '1'}"
      ]
     },
     "execution_count": 35,
     "metadata": {},
     "output_type": "execute_result"
    }
   ],
   "source": [
    "details"
   ]
  }
 ],
 "metadata": {
  "interpreter": {
   "hash": "f441965f993d937e778dd2dba94be893303e856283aa923904bad3df4cd92a01"
  },
  "kernelspec": {
   "display_name": "Python 3.9.7 ('base')",
   "language": "python",
   "name": "python3"
  },
  "language_info": {
   "codemirror_mode": {
    "name": "ipython",
    "version": 3
   },
   "file_extension": ".py",
   "mimetype": "text/x-python",
   "name": "python",
   "nbconvert_exporter": "python",
   "pygments_lexer": "ipython3",
   "version": "3.9.7"
  },
  "orig_nbformat": 4
 },
 "nbformat": 4,
 "nbformat_minor": 2
}
