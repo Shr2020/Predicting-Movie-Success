{
  "nbformat": 4,
  "nbformat_minor": 0,
  "metadata": {
    "colab": {
      "name": "data-cleaning-fusion.ipynb",
      "provenance": []
    },
    "kernelspec": {
      "name": "python3",
      "display_name": "Python 3"
    },
    "language_info": {
      "name": "python"
    }
  },
  "cells": [
    {
      "cell_type": "code",
      "execution_count": null,
      "metadata": {
        "id": "IjIxgei5n4u1"
      },
      "outputs": [],
      "source": [
        "import numpy as np\n",
        "import pandas as pd"
      ]
    },
    {
      "cell_type": "code",
      "source": [
        "from google.colab import drive\n",
        "drive.mount('/content/gdrive/')\n",
        "import sys\n",
        "import os\n",
        "prefix = '/content/gdrive/My Drive/'\n",
        "# modify \"customized_path_to_your_homework\" here to where you uploaded your homework\n",
        "customized_path_to_your_homework = 'tomatopy'\n",
        "sys_path = os.path.join(prefix, customized_path_to_your_homework)\n",
        "sys.path.append(sys_path)"
      ],
      "metadata": {
        "colab": {
          "base_uri": "https://localhost:8080/"
        },
        "id": "r8tLpc5HoCU9",
        "outputId": "8a5bc5fb-a03f-4eca-dc83-713397913c4f"
      },
      "execution_count": null,
      "outputs": [
        {
          "output_type": "stream",
          "name": "stdout",
          "text": [
            "Mounted at /content/gdrive/\n"
          ]
        }
      ]
    },
    {
      "cell_type": "code",
      "source": [
        "df = pd.read_table(\"/content/gdrive/MyDrive/tomatopy/data.tsv\",sep='\\t')\n",
        "df1 = pd.read_table(\"/content/gdrive/MyDrive/tomatopy/data-2.tsv\",sep='\\t',on_bad_lines='skip')\n",
        "result = pd.merge(df,df1, on=\"tconst\")"
      ],
      "metadata": {
        "colab": {
          "base_uri": "https://localhost:8080/"
        },
        "id": "dn_xmfSXoFt9",
        "outputId": "a722ad8c-dc36-470d-aa19-66cdd0bb3414"
      },
      "execution_count": null,
      "outputs": [
        {
          "output_type": "stream",
          "name": "stderr",
          "text": [
            "/usr/local/lib/python3.7/dist-packages/IPython/core/interactiveshell.py:2882: DtypeWarning: Columns (4,5) have mixed types.Specify dtype option on import or set low_memory=False.\n",
            "  exec(code_obj, self.user_global_ns, self.user_ns)\n"
          ]
        }
      ]
    },
    {
      "cell_type": "code",
      "source": [
        "result['imdbid'] = result['tconst']\n",
        "result = result.drop('tconst',axis = 1)"
      ],
      "metadata": {
        "id": "ZqJj3zkZqsRo"
      },
      "execution_count": null,
      "outputs": []
    },
    {
      "cell_type": "code",
      "source": [
        "result['movie'] = result['primaryTitle']\n",
        "result = result.drop('primaryTitle',axis = 1)"
      ],
      "metadata": {
        "id": "ZqGRbg8qsQ4h"
      },
      "execution_count": null,
      "outputs": []
    },
    {
      "cell_type": "code",
      "source": [
        "print(result)"
      ],
      "metadata": {
        "colab": {
          "base_uri": "https://localhost:8080/"
        },
        "id": "ywzfbuOMTUO4",
        "outputId": "9d09ac82-6aec-42f6-f0a2-e32fb20544f5"
      },
      "execution_count": null,
      "outputs": [
        {
          "output_type": "stream",
          "name": "stdout",
          "text": [
            "         averageRating  numVotes  titleType                   originalTitle  \\\n",
            "0                  5.7      1869      short                      Carmencita   \n",
            "1                  5.9       247      short          Le clown et ses chiens   \n",
            "2                  6.5      1644      short                  Pauvre Pierrot   \n",
            "3                  5.8       159      short                     Un bon bock   \n",
            "4                  6.2      2470      short                Blacksmith Scene   \n",
            "...                ...       ...        ...                             ...   \n",
            "1231201            6.6         5  tvEpisode  Horrid Henry Delivers the Milk   \n",
            "1231202            5.7       202      short                       The Nun 2   \n",
            "1231203            8.7         6      movie                          6 Gunn   \n",
            "1231204            6.7        19  tvEpisode                  Episode #10.15   \n",
            "1231205            7.2        34  tvEpisode                          Escape   \n",
            "\n",
            "        isAdult startYear endYear runtimeMinutes                      genres  \\\n",
            "0             0      1894      \\N              1           Documentary,Short   \n",
            "1             0      1892      \\N              5             Animation,Short   \n",
            "2             0      1892      \\N              4    Animation,Comedy,Romance   \n",
            "3             0      1892      \\N             12             Animation,Short   \n",
            "4             0      1893      \\N              1                Comedy,Short   \n",
            "...         ...       ...     ...            ...                         ...   \n",
            "1231201       0      2012      \\N             10  Adventure,Animation,Comedy   \n",
            "1231202       0      2019      \\N             10       Comedy,Horror,Mystery   \n",
            "1231203       0      2017      \\N            116                          \\N   \n",
            "1231204       0      2019      \\N             43           Family,Reality-TV   \n",
            "1231205       0      2019      \\N             \\N         Crime,Drama,Mystery   \n",
            "\n",
            "            imdbid                           movie  \n",
            "0        tt0000001                      Carmencita  \n",
            "1        tt0000002          Le clown et ses chiens  \n",
            "2        tt0000003                  Pauvre Pierrot  \n",
            "3        tt0000004                     Un bon bock  \n",
            "4        tt0000005                Blacksmith Scene  \n",
            "...            ...                             ...  \n",
            "1231201  tt9916690  Horrid Henry Delivers the Milk  \n",
            "1231202  tt9916720                       The Nun 2  \n",
            "1231203  tt9916730                          6 Gunn  \n",
            "1231204  tt9916766                  Episode #10.15  \n",
            "1231205  tt9916778                          Escape  \n",
            "\n",
            "[1231206 rows x 11 columns]\n"
          ]
        }
      ]
    },
    {
      "cell_type": "code",
      "source": [
        "df2 = pd.read_csv(\"/content/gdrive/MyDrive/tomatopy/TMDB/tmdb_cast_2022.csv\")\n",
        "df3 = pd.read_csv(\"/content/gdrive/MyDrive/tomatopy/TMDB/tmdb_2022.csv\")\n",
        "result1 = pd.merge(df2,df3, on=[\"tmdbid\",\"movie\"])\n",
        "result2 = pd.merge(result1,result, on=[\"imdbid\",\"movie\"])\n",
        "df2 = pd.read_csv(\"/content/gdrive/MyDrive/tomatopy/2022.csv\")\n",
        "df3 = pd.read_csv(\"/content/gdrive/MyDrive/tomatopy/new-rotten/2022_info.csv\")\n",
        "result3 = pd.merge(df2,df3, on=\"Release Group\")\n",
        "result3['movie'] = result3['Release Group']\n",
        "result3 = result3.drop('Release Group',axis = 1)\n",
        "data = pd.merge(result2, result3,on=\"movie\")"
      ],
      "metadata": {
        "id": "0elQNZJzoTHr"
      },
      "execution_count": null,
      "outputs": []
    },
    {
      "cell_type": "code",
      "source": [
        "print(result2)"
      ],
      "metadata": {
        "colab": {
          "base_uri": "https://localhost:8080/"
        },
        "id": "hCPvs_TDTdV3",
        "outputId": "ac738bd6-95cb-4147-dd23-e966fe3fc9ad"
      },
      "execution_count": null,
      "outputs": [
        {
          "output_type": "stream",
          "name": "stdout",
          "text": [
            "                         movie    tmdbid      imdbid              actor1  \\\n",
            "0                   The Batman  414906.0   tt1877830    Robert Pattinson   \n",
            "1            Water Gate Bridge  928123.0  tt16194408             Wu Jing   \n",
            "2                    Uncharted  335787.0   tt1464335         Tom Holland   \n",
            "3             Too Cool to Kill  923192.0  tt16254308               Ma Li   \n",
            "4                       Scream  646385.0  tt11245972       Neve Campbell   \n",
            "..                         ...       ...         ...                 ...   \n",
            "130               Arthur Rambo  660334.0  tt10951972  Rabah Nait Oufella   \n",
            "131          Bachchhan Paandey  715765.0  tt10699086        Akshay Kumar   \n",
            "132                   Kernagis  882743.0  tt17634196   Vytautas Kernagis   \n",
            "133                Stop-Zemlia  794785.0  tt14028890   Maria Fedorchenko   \n",
            "134  Listeners: The Whispering  786205.0  tt15170164            Quang Sự   \n",
            "\n",
            "     actor1_popularity            actor2  actor2_popularity  \\\n",
            "0               26.955       Zoë Kravitz             64.126   \n",
            "1               19.876       Jackson Yee             10.104   \n",
            "2              128.320     Mark Wahlberg             49.465   \n",
            "3                1.565         Wei Xiang              1.015   \n",
            "4               18.195     Courteney Cox             28.453   \n",
            "..                 ...               ...                ...   \n",
            "130              4.588  Antoine Reinartz              2.234   \n",
            "131              3.945       Kriti Sanon              6.833   \n",
            "132              0.652  Dalia Kernagienė              0.600   \n",
            "133              0.600    Arsenii Markov              0.600   \n",
            "134              0.600         Oanh Kiều              3.525   \n",
            "\n",
            "                   actor3  actor3_popularity            actor4  ...  runtime  \\\n",
            "0               Paul Dano             51.328    Jeffrey Wright  ...    176.0   \n",
            "1                  Hu Jun              6.962       Zhang Hanyu  ...    153.0   \n",
            "2        Antonio Banderas             18.301        Sophia Ali  ...    116.0   \n",
            "3            Allen Ai Lun              5.557      Chen Minghao  ...    109.0   \n",
            "4          David Arquette              8.580   Melissa Barrera  ...    114.0   \n",
            "..                    ...                ...               ...  ...      ...   \n",
            "130     Aleksandra Yermak              1.960    Sofian Khammes  ...     87.0   \n",
            "131  Jacqueline Fernandez              2.750      Arshad Warsi  ...    147.0   \n",
            "132        Eglė Kernagytė              0.600               NaN  ...     91.0   \n",
            "133         Yana Isaienko              0.600  Oleksandr Ivanov  ...    117.0   \n",
            "134        Phạm Quỳnh Anh              0.600        Quốc Cường  ...    120.0   \n",
            "\n",
            "    averageRating  numVotes titleType                     originalTitle  \\\n",
            "0             8.3    308489     movie                        The Batman   \n",
            "1             4.9       311     movie                 Water Gate Bridge   \n",
            "2             6.7     60587     movie                         Uncharted   \n",
            "3             6.1       226     movie  Zhe ge sha shou bu tai leng jing   \n",
            "4             6.5     78085     movie                            Scream   \n",
            "..            ...       ...       ...                               ...   \n",
            "130           6.5       222     movie                      Arthur Rambo   \n",
            "131           6.7     28543     movie                 Bachchhan Paandey   \n",
            "132           7.7        72     movie                          Kernagis   \n",
            "133           7.5       659     movie                       Stop-Zemlia   \n",
            "134           6.5         8     movie         Listeners: The Whispering   \n",
            "\n",
            "     isAdult  startYear  endYear  runtimeMinutes                   genres  \n",
            "0          0       2022       \\N             176       Action,Crime,Drama  \n",
            "1          0       2022       \\N             153     Action,Drama,History  \n",
            "2          0       2022       \\N             116         Action,Adventure  \n",
            "3          0       2022       \\N             109                   Comedy  \n",
            "4          0       2022       \\N             114  Horror,Mystery,Thriller  \n",
            "..       ...        ...      ...             ...                      ...  \n",
            "130        0       2021       \\N              87                    Drama  \n",
            "131        0       2022       \\N             147      Action,Comedy,Crime  \n",
            "132        0       2022       \\N              94              Documentary  \n",
            "133        0       2021       \\N             122                    Drama  \n",
            "134        0       2022       \\N             120                 Thriller  \n",
            "\n",
            "[135 rows x 27 columns]\n"
          ]
        }
      ]
    },
    {
      "cell_type": "code",
      "source": [
        "from ast import literal_eval\n",
        "months = dict(Jan=1, Feb=2, Mar=3,Apr=4,May =5,Jun = 6,Jul=7,Aug=8,Sep=9,Oct=10,Nov=11,Dec=12)\n",
        "li = []\n",
        "for dic in data['Director']:\n",
        "  try:\n",
        "    dic = literal_eval(dic)\n",
        "    dic = \",\".join(dic)\n",
        "    li.append(dic)\n",
        "  except:\n",
        "    li.append(dic)\n",
        "    \n",
        "data['Director'] = li\n",
        "\n",
        "li = []\n",
        "for dic in data['Producer']:\n",
        "  try:\n",
        "    dic = literal_eval(dic)\n",
        "    dic = \",\".join(dic)\n",
        "    li.append(dic)\n",
        "  except:\n",
        "    li.append(dic)\n",
        "data['Producer'] = li\n",
        "\n",
        "li = []\n",
        "for dic in data['Worldwide']:\n",
        "  try:\n",
        "    \n",
        "    dic = dic.replace(\"$\",\"\")\n",
        "    li.append(dic)\n",
        "  except:\n",
        "    li.append(dic)  \n",
        "data['Worldwide'] = li\n",
        "\n",
        "li = []\n",
        "for dic in data['Foreign']:\n",
        "  try:\n",
        "    \n",
        "    dic = dic.replace(\"$\",\"\")\n",
        "    li.append(dic)\n",
        "  except:\n",
        "    li.append(dic)\n",
        "    \n",
        "data['Foreign'] = li\n",
        "\n",
        "li = []\n",
        "for dic in data['Domestic']:\n",
        "  try:\n",
        "    \n",
        "    dic = dic.replace(\"$\",\"\")\n",
        "    li.append(dic)\n",
        "  except:\n",
        "    li.append(dic)\n",
        "   \n",
        "data['Domestic'] = li\n",
        "\n",
        "li = []\n",
        "for dic in data['%.1']:\n",
        "  try:\n",
        "    \n",
        "    dic = dic.replace(\"%\",\"\")\n",
        "    li.append(dic)\n",
        "  except:\n",
        "    li.append(dic)\n",
        "    \n",
        "data['%.1'] = li\n",
        "\n",
        "li = []\n",
        "for dic in data['%']:\n",
        "  try:\n",
        "    \n",
        "    dic = dic.replace(\"%\",\"\")\n",
        "    li.append(dic)\n",
        "  except:\n",
        "    li.append(dic)\n",
        "    \n",
        "data['%'] = li\n",
        "\n",
        "li = []\n",
        "for dic in data['Box Office (Gross USA)']:\n",
        "  try:\n",
        "    dic = dic.replace(\"M\",\"\")\n",
        "    dic = float(dic)\n",
        "    li.append(dic*1000000)\n",
        "  except:\n",
        "    li.append(dic)\n",
        "data['Box Office (Gross USA)'] = li\n",
        "\n",
        "li = []\n",
        "for dic in data['Release Date (Theaters)']:\n",
        "  try:\n",
        "    dic = literal_eval(str(dic))\n",
        "    vals = dic[0].split( )\n",
        "    dic[0]= str(months[vals[0]])+\"-\"+vals[1]\n",
        "    dic = \"-\".join(dic)\n",
        "    li.append(dic)\n",
        "  except:\n",
        "    li.append(dic)\n",
        "\n",
        "    \n",
        "data['Release Date (Theaters)'] = li\n",
        "\n",
        "li = []\n",
        "for dic in data['Worldwide']:\n",
        "  try:\n",
        "    \n",
        "    dic = dic.replace(\",\",\"\")\n",
        "    li.append(dic)\n",
        "  except:\n",
        "    li.append(dic)  \n",
        "data['Worldwide'] = li\n",
        "\n",
        "li = []\n",
        "for dic in data['Foreign']:\n",
        "  try:\n",
        "    \n",
        "    dic = dic.replace(\",\",\"\")\n",
        "    li.append(dic)\n",
        "  except:\n",
        "    li.append(dic)\n",
        "    \n",
        "data['Foreign'] = li\n",
        "\n",
        "li = []\n",
        "for dic in data['Domestic']:\n",
        "  try:\n",
        "    \n",
        "    dic = dic.replace(\",\",\"\")\n",
        "    li.append(dic)\n",
        "  except:\n",
        "    li.append(dic)\n",
        "   \n",
        "data['Domestic'] = li"
      ],
      "metadata": {
        "id": "anCcqYKUMNtm"
      },
      "execution_count": null,
      "outputs": []
    },
    {
      "cell_type": "code",
      "source": [
        "data.insert(0, \"Movie Title\", data['movie'])\n",
        "data = data.drop('movie',axis = 1)\n",
        "data.to_csv(\"/content/gdrive/MyDrive/tomatopy/modified-data/2022.csv\", encoding='utf-8')"
      ],
      "metadata": {
        "id": "3GJYGe6sOdtU"
      },
      "execution_count": null,
      "outputs": []
    },
    {
      "cell_type": "code",
      "source": [
        "import glob \n",
        "import os"
      ],
      "metadata": {
        "id": "k_Rn4zjEjKXC"
      },
      "execution_count": null,
      "outputs": []
    },
    {
      "cell_type": "code",
      "source": [
        "path = os.path.join('sys_path','modified-data')"
      ],
      "metadata": {
        "id": "3MKbETHpkipk"
      },
      "execution_count": null,
      "outputs": []
    },
    {
      "cell_type": "code",
      "source": [
        "\n",
        "df = pd.concat(map(pd.read_csv,[\"/content/gdrive/MyDrive/tomatopy//Vader_2500_res2010.csv\",\"/content/gdrive/MyDrive/tomatopy/modified-data/2011.csv\",\n",
        "                                \"/content/gdrive/MyDrive/tomatopy/modified-data/2012.csv\",\"/content/gdrive/MyDrive/tomatopy/modified-data/2013.csv\",\"/content/gdrive/MyDrive/tomatopy/modified-data/2014.csv\",\"/content/gdrive/MyDrive/tomatopy/modified-data/2015.csv\",\n",
        "                                \"/content/gdrive/MyDrive/tomatopy/modified-data/2016.csv\",\"/content/gdrive/MyDrive/tomatopy/modified-data/2017.csv\",\"/content/gdrive/MyDrive/tomatopy/modified-data/2018.csv\",\n",
        "                                \"/content/gdrive/MyDrive/tomatopy/modified-data/2019.csv\",\"/content/gdrive/MyDrive/tomatopy/modified-data/2020.csv\",\"/content/gdrive/MyDrive/tomatopy/modified-data/2021.csv\",\n",
        "                                \"/content/gdrive/MyDrive/tomatopy/modified-data/2022.csv\"]), ignore_index=True) \n",
        "print(df)"
      ],
      "metadata": {
        "colab": {
          "base_uri": "https://localhost:8080/"
        },
        "id": "6hpAwMw9jM5N",
        "outputId": "810ec4a2-7864-41f6-dbc9-f803a7a875bf"
      },
      "execution_count": null,
      "outputs": [
        {
          "output_type": "stream",
          "name": "stdout",
          "text": [
            "      Unnamed: 0                                   Movie Title    tmdbid  \\\n",
            "0              0                                   Toy Story 3   10193.0   \n",
            "1              1                           Alice in Wonderland   12092.0   \n",
            "2              2  Harry Potter and the Deathly Hallows: Part 1   12444.0   \n",
            "3              3                                     Inception   27205.0   \n",
            "4              4                           Shrek Forever After   10192.0   \n",
            "...          ...                                           ...       ...   \n",
            "2176         130                                  Arthur Rambo  660334.0   \n",
            "2177         131                             Bachchhan Paandey  715765.0   \n",
            "2178         132                                      Kernagis  882743.0   \n",
            "2179         133                                   Stop-Zemlia  794785.0   \n",
            "2180         134                     Listeners: The Whispering  786205.0   \n",
            "\n",
            "          imdbid              actor1  actor1_popularity                actor2  \\\n",
            "0      tt0435761           Tom Hanks             27.299             Tim Allen   \n",
            "1      tt0043274    Kathryn Beaumont              3.164               Ed Wynn   \n",
            "2      tt0926084    Daniel Radcliffe             24.549          Rupert Grint   \n",
            "3      tt1375666   Leonardo DiCaprio             24.953  Joseph Gordon-Levitt   \n",
            "4      tt0892791          Mike Myers             16.026          Eddie Murphy   \n",
            "...          ...                 ...                ...                   ...   \n",
            "2176  tt10951972  Rabah Nait Oufella              4.588      Antoine Reinartz   \n",
            "2177  tt10699086        Akshay Kumar              3.945           Kriti Sanon   \n",
            "2178  tt17634196   Vytautas Kernagis              0.652      Dalia Kernagienė   \n",
            "2179  tt14028890   Maria Fedorchenko              0.600        Arsenii Markov   \n",
            "2180  tt15170164            Quang Sự              0.600             Oanh Kiều   \n",
            "\n",
            "      actor2_popularity                actor3  actor3_popularity  ...   %.1  \\\n",
            "0                18.361           Joan Cusack             14.925  ...  61.1   \n",
            "1                 5.868         Richard Haydn              5.899  ...  67.4   \n",
            "2                11.399           Emma Watson             69.598  ...  69.7   \n",
            "3                20.585          Ken Watanabe             19.690  ...  64.6   \n",
            "4                13.301          Cameron Diaz             18.596  ...  68.3   \n",
            "...                 ...                   ...                ...  ...   ...   \n",
            "2176              2.234     Aleksandra Yermak              1.960  ...   100   \n",
            "2177              6.833  Jacqueline Fernandez              2.750  ...   100   \n",
            "2178              0.600        Eglė Kernagytė              0.600  ...   100   \n",
            "2179              0.600         Yana Isaienko              0.600  ...   100   \n",
            "2180              3.525        Phạm Quỳnh Anh              0.600  ...   100   \n",
            "\n",
            "      Unnamed: 0_y Score_Rotten  Score_Audience  Rating  \\\n",
            "0                0         98.0            90.0       G   \n",
            "1                1          NaN            48.0     NaN   \n",
            "2                2         77.0            85.0   PG-13   \n",
            "3                3         87.0            91.0   PG-13   \n",
            "4                4         58.0            54.0      PG   \n",
            "...            ...          ...             ...     ...   \n",
            "2176           194         63.0             NaN     NaN   \n",
            "2177           196          NaN            74.0     NaN   \n",
            "2178           197          NaN             NaN     NaN   \n",
            "2179           198         88.0            67.0     NaN   \n",
            "2180           199          NaN             NaN     NaN   \n",
            "\n",
            "                                                  Genre  \\\n",
            "0     ['Comedy', 'Kids & family', 'Adventure', 'Fant...   \n",
            "1                                           ['Fantasy']   \n",
            "2                              ['Adventure', 'Fantasy']   \n",
            "3            ['Sci-fi', 'Mystery & thriller', 'Action']   \n",
            "4     ['Comedy', 'Kids & family', 'Adventure', 'Fant...   \n",
            "...                                                 ...   \n",
            "2176                                          ['Drama']   \n",
            "2177                      ['Action', 'Comedy', 'Crime']   \n",
            "2178                                                NaN   \n",
            "2179                               ['Drama', 'Romance']   \n",
            "2180                                                NaN   \n",
            "\n",
            "                          Director  \\\n",
            "0                      Lee Unkrich   \n",
            "1     Cecil M. Hepworth,Percy Stow   \n",
            "2                      David Yates   \n",
            "3                Christopher Nolan   \n",
            "4                    Mike Mitchell   \n",
            "...                            ...   \n",
            "2176                Laurent Cantet   \n",
            "2177                  Farhad Samji   \n",
            "2178                           NaN   \n",
            "2179            Kateryna Gornostai   \n",
            "2180                           NaN   \n",
            "\n",
            "                                               Producer  \\\n",
            "0                                     Darla K. Anderson   \n",
            "1                                                   NaN   \n",
            "2                David Heyman,David Barron,J.K. Rowling   \n",
            "3                         Christopher Nolan,Emma Thomas   \n",
            "4                                Gina Shay,Teresa Cheng   \n",
            "...                                                 ...   \n",
            "2176                                 Marie-Ange Luciani   \n",
            "2177                      Sajid Nadiadwala,Manoj Mittra   \n",
            "2178                                                NaN   \n",
            "2179  Olga Beskhmelnitsyna,Viktoria Khomenko,Natalia...   \n",
            "2180                                                NaN   \n",
            "\n",
            "      Release Date (Theaters)  Box Office (Gross USA)  \n",
            "0                   6-18-2010             415000000.0  \n",
            "1                  10-17-1903                     NaN  \n",
            "2                  11-19-2010             295000000.0  \n",
            "3                   7-16-2010             292600000.0  \n",
            "4                   5-21-2010                     NaN  \n",
            "...                       ...                     ...  \n",
            "2176                      NaN                     NaN  \n",
            "2177                3-18-2022                     NaN  \n",
            "2178                      NaN                     NaN  \n",
            "2179                1-21-2022                     NaN  \n",
            "2180                      NaN                     NaN  \n",
            "\n",
            "[2181 rows x 44 columns]\n"
          ]
        }
      ]
    },
    {
      "cell_type": "code",
      "source": [
        "df = pd.read_csv(\"/content/gdrive/MyDrive/tomatopy/merged-data.csv\", encoding='utf-8')\n",
        "df1 = pd.read_csv(\"/content/gdrive/MyDrive/tomatopy/release-dates.csv\", encoding='utf-8')"
      ],
      "metadata": {
        "id": "LRG-Zqcolvef"
      },
      "execution_count": null,
      "outputs": []
    },
    {
      "cell_type": "code",
      "source": [
        "df1['Movie Title'] = df1['Movie']\n",
        "df1 = df1.drop('Movie',axis = 1)"
      ],
      "metadata": {
        "id": "xzXut9AypjM4"
      },
      "execution_count": null,
      "outputs": []
    },
    {
      "cell_type": "code",
      "source": [
        "print(df1)"
      ],
      "metadata": {
        "colab": {
          "base_uri": "https://localhost:8080/"
        },
        "id": "Vf5cOv55ofNU",
        "outputId": "733d42cf-299e-4c3b-8b69-a5632163b89f"
      },
      "execution_count": null,
      "outputs": [
        {
          "output_type": "stream",
          "name": "stdout",
          "text": [
            "     Release-Date      Revenue     Revenue1 NumTheatres  \\\n",
            "0      2010-01-08  $30,101,577  $30,101,577         100   \n",
            "1      2010-01-08  $25,918,920  $25,918,920         107   \n",
            "2      2010-01-08  $15,281,286  $15,281,286         131   \n",
            "3      2010-01-15  $94,835,059  $94,835,059          30   \n",
            "4      2010-01-15  $24,307,086  $24,307,086         112   \n",
            "...           ...          ...          ...         ...   \n",
            "2524   2022-12-25  $14,301,214  $26,514,814          16   \n",
            "2525   2022-12-25   $2,639,255   $6,545,174          35   \n",
            "2526   2022-12-25      $18,971     $203,571          97   \n",
            "2527   2022-12-26      $12,065      $52,656         109   \n",
            "2528   2022-12-29     $106,882     $108,678          72   \n",
            "\n",
            "                             Production UNK1 UNK2 UNK3           Movie Title  \n",
            "0                             Lionsgate  NaN  NaN  NaN           Daybreakers  \n",
            "1                    Universal Pictures  NaN  NaN  NaN             Leap Year  \n",
            "2                                     -  NaN  NaN  NaN       Youth in Revolt  \n",
            "3                          Warner Bros.  NaN  NaN  NaN       The Book of Eli  \n",
            "4                             Lionsgate  NaN  NaN  NaN     The Spy Next Door  \n",
            "...                                 ...  ...  ...  ...                   ...  \n",
            "2524                          Lionsgate  NaN  NaN  NaN     American Underdog  \n",
            "2525  Sony Pictures Entertainment (SPE)  NaN  NaN  NaN  A Journal for Jordan  \n",
            "2526                       Warner Bros.  NaN  NaN  NaN           The Witches  \n",
            "2527                               Neon  NaN  NaN  NaN               Memoria  \n",
            "2528             Sony Pictures Classics  NaN  NaN  NaN                Jockey  \n",
            "\n",
            "[2529 rows x 9 columns]\n"
          ]
        }
      ]
    },
    {
      "cell_type": "code",
      "source": [
        "result = pd.merge(df, df1, on='Movie Title', how='left')"
      ],
      "metadata": {
        "id": "W-dMyxMTpZKX"
      },
      "execution_count": null,
      "outputs": []
    },
    {
      "cell_type": "code",
      "source": [
        "print(result)"
      ],
      "metadata": {
        "colab": {
          "base_uri": "https://localhost:8080/"
        },
        "id": "x26IvW5qpxco",
        "outputId": "712cdd09-d18a-4df0-8e76-120fb7fe8871"
      },
      "execution_count": null,
      "outputs": [
        {
          "output_type": "stream",
          "name": "stdout",
          "text": [
            "      Unnamed: 0  Unnamed: 0.1                                   Movie Title  \\\n",
            "0              0             0                                   Toy Story 3   \n",
            "1              1             1                           Alice in Wonderland   \n",
            "2              2             2  Harry Potter and the Deathly Hallows: Part 1   \n",
            "3              2             2  Harry Potter and the Deathly Hallows: Part 1   \n",
            "4              3             3                                     Inception   \n",
            "...          ...           ...                                           ...   \n",
            "2411        2176           130                                  Arthur Rambo   \n",
            "2412        2177           131                             Bachchhan Paandey   \n",
            "2413        2178           132                                      Kernagis   \n",
            "2414        2179           133                                   Stop-Zemlia   \n",
            "2415        2180           134                     Listeners: The Whispering   \n",
            "\n",
            "        tmdbid      imdbid              actor1  actor1_popularity  \\\n",
            "0      10193.0   tt0435761           Tom Hanks             27.299   \n",
            "1      12092.0   tt0043274    Kathryn Beaumont              3.164   \n",
            "2      12444.0   tt0926084    Daniel Radcliffe             24.549   \n",
            "3      12444.0   tt0926084    Daniel Radcliffe             24.549   \n",
            "4      27205.0   tt1375666   Leonardo DiCaprio             24.953   \n",
            "...        ...         ...                 ...                ...   \n",
            "2411  660334.0  tt10951972  Rabah Nait Oufella              4.588   \n",
            "2412  715765.0  tt10699086        Akshay Kumar              3.945   \n",
            "2413  882743.0  tt17634196   Vytautas Kernagis              0.652   \n",
            "2414  794785.0  tt14028890   Maria Fedorchenko              0.600   \n",
            "2415  786205.0  tt15170164            Quang Sự              0.600   \n",
            "\n",
            "                    actor2  actor2_popularity                actor3  ...  \\\n",
            "0                Tim Allen             18.361           Joan Cusack  ...   \n",
            "1                  Ed Wynn              5.868         Richard Haydn  ...   \n",
            "2             Rupert Grint             11.399           Emma Watson  ...   \n",
            "3             Rupert Grint             11.399           Emma Watson  ...   \n",
            "4     Joseph Gordon-Levitt             20.585          Ken Watanabe  ...   \n",
            "...                    ...                ...                   ...  ...   \n",
            "2411      Antoine Reinartz              2.234     Aleksandra Yermak  ...   \n",
            "2412           Kriti Sanon              6.833  Jacqueline Fernandez  ...   \n",
            "2413      Dalia Kernagienė              0.600        Eglė Kernagytė  ...   \n",
            "2414        Arsenii Markov              0.600         Yana Isaienko  ...   \n",
            "2415             Oanh Kiều              3.525        Phạm Quỳnh Anh  ...   \n",
            "\n",
            "      Release Date (Theaters) Box Office (Gross USA)  Release-Date  \\\n",
            "0                   6-18-2010            415000000.0    2010-06-18   \n",
            "1                  10-17-1903                    NaN    2010-03-05   \n",
            "2                  11-19-2010            295000000.0    2010-11-19   \n",
            "3                  11-19-2010            295000000.0    2011-11-19   \n",
            "4                   7-16-2010            292600000.0    2010-07-16   \n",
            "...                       ...                    ...           ...   \n",
            "2411                      NaN                    NaN           NaN   \n",
            "2412                3-18-2022                    NaN           NaN   \n",
            "2413                      NaN                    NaN           NaN   \n",
            "2414                1-21-2022                    NaN           NaN   \n",
            "2415                      NaN                    NaN           NaN   \n",
            "\n",
            "           Revenue      Revenue1  NumTheatres  \\\n",
            "0     $415,004,880  $415,004,880            2   \n",
            "1     $334,191,110  $334,191,110            3   \n",
            "2     $280,230,127  $295,983,305            7   \n",
            "3      $15,753,178  $295,983,305          131   \n",
            "4     $292,558,188  $292,576,195            6   \n",
            "...            ...           ...          ...   \n",
            "2411           NaN           NaN          NaN   \n",
            "2412           NaN           NaN          NaN   \n",
            "2413           NaN           NaN          NaN   \n",
            "2414           NaN           NaN          NaN   \n",
            "2415           NaN           NaN          NaN   \n",
            "\n",
            "                               Production  UNK1  UNK2  UNK3  \n",
            "0     Walt Disney Studios Motion Pictures   NaN   NaN   NaN  \n",
            "1     Walt Disney Studios Motion Pictures   NaN   NaN   NaN  \n",
            "2                            Warner Bros.   NaN   NaN   NaN  \n",
            "3                            Warner Bros.   NaN   NaN   NaN  \n",
            "4                            Warner Bros.   NaN   NaN   NaN  \n",
            "...                                   ...   ...   ...   ...  \n",
            "2411                                  NaN   NaN   NaN   NaN  \n",
            "2412                                  NaN   NaN   NaN   NaN  \n",
            "2413                                  NaN   NaN   NaN   NaN  \n",
            "2414                                  NaN   NaN   NaN   NaN  \n",
            "2415                                  NaN   NaN   NaN   NaN  \n",
            "\n",
            "[2416 rows x 53 columns]\n"
          ]
        }
      ]
    },
    {
      "cell_type": "code",
      "source": [
        "result = result.reset_index()"
      ],
      "metadata": {
        "id": "xKVlaPMbtmTa"
      },
      "execution_count": null,
      "outputs": []
    },
    {
      "cell_type": "code",
      "source": [
        "print(result)"
      ],
      "metadata": {
        "colab": {
          "base_uri": "https://localhost:8080/"
        },
        "id": "P_Oj6sUrttKL",
        "outputId": "e80fa901-f72d-4d12-8241-5ddc0f177566"
      },
      "execution_count": null,
      "outputs": [
        {
          "output_type": "stream",
          "name": "stdout",
          "text": [
            "      index  Unnamed: 0  Unnamed: 0.1  \\\n",
            "0         0           0             0   \n",
            "1         1           1             1   \n",
            "2         2           2             2   \n",
            "3         3           2             2   \n",
            "4         4           3             3   \n",
            "...     ...         ...           ...   \n",
            "2411   2411        2176           130   \n",
            "2412   2412        2177           131   \n",
            "2413   2413        2178           132   \n",
            "2414   2414        2179           133   \n",
            "2415   2415        2180           134   \n",
            "\n",
            "                                       Movie Title    tmdbid      imdbid  \\\n",
            "0                                      Toy Story 3   10193.0   tt0435761   \n",
            "1                              Alice in Wonderland   12092.0   tt0043274   \n",
            "2     Harry Potter and the Deathly Hallows: Part 1   12444.0   tt0926084   \n",
            "3     Harry Potter and the Deathly Hallows: Part 1   12444.0   tt0926084   \n",
            "4                                        Inception   27205.0   tt1375666   \n",
            "...                                            ...       ...         ...   \n",
            "2411                                  Arthur Rambo  660334.0  tt10951972   \n",
            "2412                             Bachchhan Paandey  715765.0  tt10699086   \n",
            "2413                                      Kernagis  882743.0  tt17634196   \n",
            "2414                                   Stop-Zemlia  794785.0  tt14028890   \n",
            "2415                     Listeners: The Whispering  786205.0  tt15170164   \n",
            "\n",
            "                  actor1  actor1_popularity                actor2  \\\n",
            "0              Tom Hanks             27.299             Tim Allen   \n",
            "1       Kathryn Beaumont              3.164               Ed Wynn   \n",
            "2       Daniel Radcliffe             24.549          Rupert Grint   \n",
            "3       Daniel Radcliffe             24.549          Rupert Grint   \n",
            "4      Leonardo DiCaprio             24.953  Joseph Gordon-Levitt   \n",
            "...                  ...                ...                   ...   \n",
            "2411  Rabah Nait Oufella              4.588      Antoine Reinartz   \n",
            "2412        Akshay Kumar              3.945           Kriti Sanon   \n",
            "2413   Vytautas Kernagis              0.652      Dalia Kernagienė   \n",
            "2414   Maria Fedorchenko              0.600        Arsenii Markov   \n",
            "2415            Quang Sự              0.600             Oanh Kiều   \n",
            "\n",
            "      actor2_popularity  ... Release Date (Theaters)  Box Office (Gross USA)  \\\n",
            "0                18.361  ...               6-18-2010             415000000.0   \n",
            "1                 5.868  ...              10-17-1903                     NaN   \n",
            "2                11.399  ...              11-19-2010             295000000.0   \n",
            "3                11.399  ...              11-19-2010             295000000.0   \n",
            "4                20.585  ...               7-16-2010             292600000.0   \n",
            "...                 ...  ...                     ...                     ...   \n",
            "2411              2.234  ...                     NaN                     NaN   \n",
            "2412              6.833  ...               3-18-2022                     NaN   \n",
            "2413              0.600  ...                     NaN                     NaN   \n",
            "2414              0.600  ...               1-21-2022                     NaN   \n",
            "2415              3.525  ...                     NaN                     NaN   \n",
            "\n",
            "     Release-Date       Revenue      Revenue1  NumTheatres  \\\n",
            "0      2010-06-18  $415,004,880  $415,004,880            2   \n",
            "1      2010-03-05  $334,191,110  $334,191,110            3   \n",
            "2      2010-11-19  $280,230,127  $295,983,305            7   \n",
            "3      2011-11-19   $15,753,178  $295,983,305          131   \n",
            "4      2010-07-16  $292,558,188  $292,576,195            6   \n",
            "...           ...           ...           ...          ...   \n",
            "2411          NaN           NaN           NaN          NaN   \n",
            "2412          NaN           NaN           NaN          NaN   \n",
            "2413          NaN           NaN           NaN          NaN   \n",
            "2414          NaN           NaN           NaN          NaN   \n",
            "2415          NaN           NaN           NaN          NaN   \n",
            "\n",
            "                               Production  UNK1  UNK2  UNK3  \n",
            "0     Walt Disney Studios Motion Pictures   NaN   NaN   NaN  \n",
            "1     Walt Disney Studios Motion Pictures   NaN   NaN   NaN  \n",
            "2                            Warner Bros.   NaN   NaN   NaN  \n",
            "3                            Warner Bros.   NaN   NaN   NaN  \n",
            "4                            Warner Bros.   NaN   NaN   NaN  \n",
            "...                                   ...   ...   ...   ...  \n",
            "2411                                  NaN   NaN   NaN   NaN  \n",
            "2412                                  NaN   NaN   NaN   NaN  \n",
            "2413                                  NaN   NaN   NaN   NaN  \n",
            "2414                                  NaN   NaN   NaN   NaN  \n",
            "2415                                  NaN   NaN   NaN   NaN  \n",
            "\n",
            "[2416 rows x 54 columns]\n"
          ]
        }
      ]
    },
    {
      "cell_type": "code",
      "source": [
        "result['Release-Date'].fillna(\"0\", inplace = True) "
      ],
      "metadata": {
        "id": "qitWZFk8u9E0"
      },
      "execution_count": null,
      "outputs": []
    },
    {
      "cell_type": "code",
      "source": [
        "(result['Release-Date'] ==\"0\").sum()"
      ],
      "metadata": {
        "colab": {
          "base_uri": "https://localhost:8080/"
        },
        "id": "sPimZiWbw0Tv",
        "outputId": "574bbc1e-4abb-44ae-f0f6-a613933ae018"
      },
      "execution_count": null,
      "outputs": [
        {
          "output_type": "execute_result",
          "data": {
            "text/plain": [
              "800"
            ]
          },
          "metadata": {},
          "execution_count": 117
        }
      ]
    },
    {
      "cell_type": "code",
      "source": [
        "result['Release Date (Theaters)'].fillna(\"0\", inplace = True)"
      ],
      "metadata": {
        "id": "RGtCbk_JvPzO"
      },
      "execution_count": null,
      "outputs": []
    },
    {
      "cell_type": "code",
      "source": [
        "import itertools\n",
        "lst = list(itertools.repeat(0, 10))\n",
        "print(lst)"
      ],
      "metadata": {
        "id": "EhCfA1Kk7COu"
      },
      "execution_count": null,
      "outputs": []
    },
    {
      "cell_type": "code",
      "source": [
        "for index, row in result.iterrows():\n",
        "  if row['Release-Date'] ==\"0\" and row['Release Date (Theaters)']!= \"0\" :\n",
        "    val = row['Release Date (Theaters)'].split('-')\n",
        "    result.at[index, 'Release-Date'] =  val[2]+\"-\"+val[0]+\"-\"+val[1]"
      ],
      "metadata": {
        "id": "VO_xRnP_mOoN"
      },
      "execution_count": null,
      "outputs": []
    },
    {
      "cell_type": "code",
      "source": [
        "(result['Release-Date'] ==\"0\").sum()"
      ],
      "metadata": {
        "colab": {
          "base_uri": "https://localhost:8080/"
        },
        "id": "OedrhF4xxbph",
        "outputId": "f39e6191-4591-4bb0-c3c3-6e235f418f59"
      },
      "execution_count": null,
      "outputs": [
        {
          "output_type": "execute_result",
          "data": {
            "text/plain": [
              "600"
            ]
          },
          "metadata": {},
          "execution_count": 120
        }
      ]
    },
    {
      "cell_type": "code",
      "source": [
        "result = result.drop('Release Date (Theaters)',axis = 1)\n",
        "result = result.drop('UNK1',axis = 1)\n",
        "result = result.drop('UNK2',axis = 1)\n",
        "result = result.drop('UNK3',axis = 1)\n",
        "result = result.drop('Unnamed: 0',axis = 1)\n",
        "result = result.drop('Unnamed: 0.1',axis = 1)\n",
        "result = result.drop('startYear',axis = 1)\n",
        "result = result.drop('endYear',axis = 1)\n",
        "result = result.drop('Genre',axis = 1)\n",
        "result = result.drop('tmdbid',axis = 1)\n",
        "result = result.drop('imdbid',axis = 1)\n",
        "result = result.drop('adult',axis = 1)\n",
        "result = result.drop('titleType',axis = 1)\n",
        "result = result.drop('Unnamed: 0_x',axis = 1)\n",
        "result = result.drop('Unnamed: 0_y',axis = 1)\n"
      ],
      "metadata": {
        "id": "URkd64Q2wM1b"
      },
      "execution_count": null,
      "outputs": []
    },
    {
      "cell_type": "code",
      "source": [
        "result = pd.read_csv(\"/content/gdrive/MyDrive/tomatopy/cleaned-data.csv\")"
      ],
      "metadata": {
        "id": "esTc6K7h0SFY"
      },
      "execution_count": null,
      "outputs": []
    },
    {
      "cell_type": "code",
      "source": [
        "new_df = pd.concat(map(pd.read_csv,[\"/content/gdrive/MyDrive/tomatopy/GoogleTrends/gt_2010.csv\",\"/content/gdrive/MyDrive/tomatopy/GoogleTrends/gt_2011.csv\",\"/content/gdrive/MyDrive/tomatopy/GoogleTrends/gt_2012.csv\"\n",
        ",\"/content/gdrive/MyDrive/tomatopy/GoogleTrends/gt_2013.csv\",\"/content/gdrive/MyDrive/tomatopy/GoogleTrends/gt_2014.csv\",\"/content/gdrive/MyDrive/tomatopy/GoogleTrends/gt_2015.csv\",\"/content/gdrive/MyDrive/tomatopy/GoogleTrends/gt_2016.csv\",\"/content/gdrive/MyDrive/tomatopy/GoogleTrends/gt_2017.csv\",\"/content/gdrive/MyDrive/tomatopy/GoogleTrends/gt_2018.csv\",\"/content/gdrive/MyDrive/tomatopy/GoogleTrends/gt_2019.csv\",\"/content/gdrive/MyDrive/tomatopy/GoogleTrends/gt_2020.csv\"\n",
        ",\"/content/gdrive/MyDrive/tomatopy/GoogleTrends/gt_2021.csv\",\"/content/gdrive/MyDrive/tomatopy/GoogleTrends/gt_2022.csv\"]), ignore_index=True) \n",
        "print(new_df)"
      ],
      "metadata": {
        "colab": {
          "base_uri": "https://localhost:8080/"
        },
        "id": "wswvm6MX1UyT",
        "outputId": "ee95fcef-30d7-4bdb-b6e5-1e6a92516492"
      },
      "execution_count": null,
      "outputs": [
        {
          "output_type": "stream",
          "name": "stdout",
          "text": [
            "                                             movie   startdate releasedate  \\\n",
            "0                                      Toy Story 3  2010-06-11  2010-06-18   \n",
            "1     Harry Potter and the Deathly Hallows: Part 1  2010-11-12  2010-11-19   \n",
            "2                                        Inception  2010-07-09  2010-07-16   \n",
            "3                              Shrek Forever After  2010-05-14  2010-05-21   \n",
            "4                       The Twilight Saga: Eclipse  2010-06-23  2010-06-30   \n",
            "...                                            ...         ...         ...   \n",
            "1628                                   Tyson's Run  2022-03-04  2022-03-11   \n",
            "1629                                         Clean  2022-01-21  2022-01-28   \n",
            "1630                                       Sundown  2022-01-21  2022-01-28   \n",
            "1631                                         Alice  2022-03-11  2022-03-18   \n",
            "1632                             Jane by Charlotte  2022-03-11  2022-03-18   \n",
            "\n",
            "      Text  mean_google_trend_popularity  \n",
            "0      NaN                        46.375  \n",
            "1      NaN                        48.000  \n",
            "2      NaN                        33.500  \n",
            "3      NaN                        34.625  \n",
            "4      NaN                        52.500  \n",
            "...    ...                           ...  \n",
            "1628   NaN                        35.000  \n",
            "1629   NaN                        93.750  \n",
            "1630   NaN                        81.375  \n",
            "1631   NaN                        96.250  \n",
            "1632   NaN                        45.375  \n",
            "\n",
            "[1633 rows x 5 columns]\n"
          ]
        }
      ]
    },
    {
      "cell_type": "code",
      "source": [
        "new_df['Movie Title'] = new_df['movie']\n",
        "new_df = new_df.drop('movie',axis = 1)"
      ],
      "metadata": {
        "id": "8YDSS_jo2etL"
      },
      "execution_count": null,
      "outputs": []
    },
    {
      "cell_type": "code",
      "source": [
        "result3 = pd.merge(result,new_df, on='Movie Title', how='left')"
      ],
      "metadata": {
        "id": "IqROugJY2bGA"
      },
      "execution_count": null,
      "outputs": []
    },
    {
      "cell_type": "code",
      "source": [
        "print(result3)"
      ],
      "metadata": {
        "colab": {
          "base_uri": "https://localhost:8080/"
        },
        "id": "eCH5q17K4JSP",
        "outputId": "5b20f12a-f3de-45be-d429-e5644e76c2be"
      },
      "execution_count": null,
      "outputs": [
        {
          "output_type": "stream",
          "name": "stdout",
          "text": [
            "      Unnamed: 0  index                                   Movie Title  \\\n",
            "0              0      0                                   Toy Story 3   \n",
            "1              1      1                           Alice in Wonderland   \n",
            "2              2      2  Harry Potter and the Deathly Hallows: Part 1   \n",
            "3              3      3  Harry Potter and the Deathly Hallows: Part 1   \n",
            "4              4      4                                     Inception   \n",
            "...          ...    ...                                           ...   \n",
            "2431        2411   2411                                  Arthur Rambo   \n",
            "2432        2412   2412                             Bachchhan Paandey   \n",
            "2433        2413   2413                                      Kernagis   \n",
            "2434        2414   2414                                   Stop-Zemlia   \n",
            "2435        2415   2415                     Listeners: The Whispering   \n",
            "\n",
            "                  actor1  actor1_popularity                actor2  \\\n",
            "0              Tom Hanks             27.299             Tim Allen   \n",
            "1       Kathryn Beaumont              3.164               Ed Wynn   \n",
            "2       Daniel Radcliffe             24.549          Rupert Grint   \n",
            "3       Daniel Radcliffe             24.549          Rupert Grint   \n",
            "4      Leonardo DiCaprio             24.953  Joseph Gordon-Levitt   \n",
            "...                  ...                ...                   ...   \n",
            "2431  Rabah Nait Oufella              4.588      Antoine Reinartz   \n",
            "2432        Akshay Kumar              3.945           Kriti Sanon   \n",
            "2433   Vytautas Kernagis              0.652      Dalia Kernagienė   \n",
            "2434   Maria Fedorchenko              0.600        Arsenii Markov   \n",
            "2435            Quang Sự              0.600             Oanh Kiều   \n",
            "\n",
            "      actor2_popularity                actor3  actor3_popularity  \\\n",
            "0                18.361           Joan Cusack             14.925   \n",
            "1                 5.868         Richard Haydn              5.899   \n",
            "2                11.399           Emma Watson             69.598   \n",
            "3                11.399           Emma Watson             69.598   \n",
            "4                20.585          Ken Watanabe             19.690   \n",
            "...                 ...                   ...                ...   \n",
            "2431              2.234     Aleksandra Yermak              1.960   \n",
            "2432              6.833  Jacqueline Fernandez              2.750   \n",
            "2433              0.600        Eglė Kernagytė              0.600   \n",
            "2434              0.600         Yana Isaienko              0.600   \n",
            "2435              3.525        Phạm Quỳnh Anh              0.600   \n",
            "\n",
            "                    actor4  ...  Box Office (Gross USA) Release-Date  \\\n",
            "0              Don Rickles  ...             415000000.0   2010-06-18   \n",
            "1        Sterling Holloway  ...                     NaN   2010-03-05   \n",
            "2     Helena Bonham Carter  ...             295000000.0   2010-11-19   \n",
            "3     Helena Bonham Carter  ...             295000000.0   2011-11-19   \n",
            "4                Tom Hardy  ...             292600000.0   2010-07-16   \n",
            "...                    ...  ...                     ...          ...   \n",
            "2431        Sofian Khammes  ...                     NaN            0   \n",
            "2432          Arshad Warsi  ...                     NaN    2022-3-18   \n",
            "2433                   NaN  ...                     NaN            0   \n",
            "2434      Oleksandr Ivanov  ...                     NaN    2022-1-21   \n",
            "2435            Quốc Cường  ...                     NaN            0   \n",
            "\n",
            "           Revenue      Revenue1  NumTheatres  \\\n",
            "0     $415,004,880  $415,004,880            2   \n",
            "1     $334,191,110  $334,191,110            3   \n",
            "2     $280,230,127  $295,983,305            7   \n",
            "3      $15,753,178  $295,983,305          131   \n",
            "4     $292,558,188  $292,576,195            6   \n",
            "...            ...           ...          ...   \n",
            "2431           NaN           NaN          NaN   \n",
            "2432           NaN           NaN          NaN   \n",
            "2433           NaN           NaN          NaN   \n",
            "2434           NaN           NaN          NaN   \n",
            "2435           NaN           NaN          NaN   \n",
            "\n",
            "                               Production   startdate  releasedate  Text  \\\n",
            "0     Walt Disney Studios Motion Pictures  2010-06-11   2010-06-18   NaN   \n",
            "1     Walt Disney Studios Motion Pictures         NaN          NaN   NaN   \n",
            "2                            Warner Bros.  2010-11-12   2010-11-19   NaN   \n",
            "3                            Warner Bros.  2010-11-12   2010-11-19   NaN   \n",
            "4                            Warner Bros.  2010-07-09   2010-07-16   NaN   \n",
            "...                                   ...         ...          ...   ...   \n",
            "2431                                  NaN         NaN          NaN   NaN   \n",
            "2432                                  NaN         NaN          NaN   NaN   \n",
            "2433                                  NaN         NaN          NaN   NaN   \n",
            "2434                                  NaN         NaN          NaN   NaN   \n",
            "2435                                  NaN         NaN          NaN   NaN   \n",
            "\n",
            "     mean_google_trend_popularity  \n",
            "0                          46.375  \n",
            "1                             NaN  \n",
            "2                          48.000  \n",
            "3                          48.000  \n",
            "4                          33.500  \n",
            "...                           ...  \n",
            "2431                          NaN  \n",
            "2432                          NaN  \n",
            "2433                          NaN  \n",
            "2434                          NaN  \n",
            "2435                          NaN  \n",
            "\n",
            "[2436 rows x 44 columns]\n"
          ]
        }
      ]
    },
    {
      "cell_type": "code",
      "source": [
        "(result3['releasedate'] ==\"0\").sum()"
      ],
      "metadata": {
        "colab": {
          "base_uri": "https://localhost:8080/"
        },
        "id": "O28Y7A7N4NEp",
        "outputId": "fbcdae32-3365-43c3-9a2e-ffc0555b629b"
      },
      "execution_count": null,
      "outputs": [
        {
          "output_type": "execute_result",
          "data": {
            "text/plain": [
              "0"
            ]
          },
          "metadata": {},
          "execution_count": 139
        }
      ]
    },
    {
      "cell_type": "code",
      "source": [
        "result3['releasedate'].fillna(\"0\", inplace = True)"
      ],
      "metadata": {
        "id": "i-3YZ-Ik3HSC"
      },
      "execution_count": null,
      "outputs": []
    },
    {
      "cell_type": "code",
      "source": [
        "result3.to_csv(\"/content/gdrive/MyDrive/tomatopy/gt-data.csv\", encoding='utf-8')"
      ],
      "metadata": {
        "id": "jyyYf5Rw4njM"
      },
      "execution_count": null,
      "outputs": []
    },
    {
      "cell_type": "code",
      "source": [
        "result3 = result3.drop_duplicates(subset=['Movie Title'])"
      ],
      "metadata": {
        "id": "7KpFA40n3S9-"
      },
      "execution_count": null,
      "outputs": []
    },
    {
      "cell_type": "code",
      "source": [
        "print(result3)\n",
        "21,000,000"
      ],
      "metadata": {
        "colab": {
          "base_uri": "https://localhost:8080/"
        },
        "id": "sZ6dw9CQ3ohJ",
        "outputId": "9db516bb-cbcd-4de9-8525-13ba2ec15682"
      },
      "execution_count": null,
      "outputs": [
        {
          "output_type": "stream",
          "name": "stdout",
          "text": [
            "      Unnamed: 0  index                                   Movie Title  \\\n",
            "0              0      0                                   Toy Story 3   \n",
            "1              1      1                           Alice in Wonderland   \n",
            "2              2      2  Harry Potter and the Deathly Hallows: Part 1   \n",
            "4              4      4                                     Inception   \n",
            "5              5      5                           Shrek Forever After   \n",
            "...          ...    ...                                           ...   \n",
            "2431        2411   2411                                  Arthur Rambo   \n",
            "2432        2412   2412                             Bachchhan Paandey   \n",
            "2433        2413   2413                                      Kernagis   \n",
            "2434        2414   2414                                   Stop-Zemlia   \n",
            "2435        2415   2415                     Listeners: The Whispering   \n",
            "\n",
            "                  actor1  actor1_popularity                actor2  \\\n",
            "0              Tom Hanks             27.299             Tim Allen   \n",
            "1       Kathryn Beaumont              3.164               Ed Wynn   \n",
            "2       Daniel Radcliffe             24.549          Rupert Grint   \n",
            "4      Leonardo DiCaprio             24.953  Joseph Gordon-Levitt   \n",
            "5             Mike Myers             16.026          Eddie Murphy   \n",
            "...                  ...                ...                   ...   \n",
            "2431  Rabah Nait Oufella              4.588      Antoine Reinartz   \n",
            "2432        Akshay Kumar              3.945           Kriti Sanon   \n",
            "2433   Vytautas Kernagis              0.652      Dalia Kernagienė   \n",
            "2434   Maria Fedorchenko              0.600        Arsenii Markov   \n",
            "2435            Quang Sự              0.600             Oanh Kiều   \n",
            "\n",
            "      actor2_popularity                actor3  actor3_popularity  \\\n",
            "0                18.361           Joan Cusack             14.925   \n",
            "1                 5.868         Richard Haydn              5.899   \n",
            "2                11.399           Emma Watson             69.598   \n",
            "4                20.585          Ken Watanabe             19.690   \n",
            "5                13.301          Cameron Diaz             18.596   \n",
            "...                 ...                   ...                ...   \n",
            "2431              2.234     Aleksandra Yermak              1.960   \n",
            "2432              6.833  Jacqueline Fernandez              2.750   \n",
            "2433              0.600        Eglė Kernagytė              0.600   \n",
            "2434              0.600         Yana Isaienko              0.600   \n",
            "2435              3.525        Phạm Quỳnh Anh              0.600   \n",
            "\n",
            "                    actor4  ...  Box Office (Gross USA) Release-Date  \\\n",
            "0              Don Rickles  ...             415000000.0   2010-06-18   \n",
            "1        Sterling Holloway  ...                     NaN   2010-03-05   \n",
            "2     Helena Bonham Carter  ...             295000000.0   2010-11-19   \n",
            "4                Tom Hardy  ...             292600000.0   2010-07-16   \n",
            "5         Antonio Banderas  ...                     NaN   2010-05-21   \n",
            "...                    ...  ...                     ...          ...   \n",
            "2431        Sofian Khammes  ...                     NaN            0   \n",
            "2432          Arshad Warsi  ...                     NaN    2022-3-18   \n",
            "2433                   NaN  ...                     NaN            0   \n",
            "2434      Oleksandr Ivanov  ...                     NaN    2022-1-21   \n",
            "2435            Quốc Cường  ...                     NaN            0   \n",
            "\n",
            "           Revenue      Revenue1  NumTheatres  \\\n",
            "0     $415,004,880  $415,004,880            2   \n",
            "1     $334,191,110  $334,191,110            3   \n",
            "2     $280,230,127  $295,983,305            7   \n",
            "4     $292,558,188  $292,576,195            6   \n",
            "5     $238,736,787  $238,736,787            9   \n",
            "...            ...           ...          ...   \n",
            "2431           NaN           NaN          NaN   \n",
            "2432           NaN           NaN          NaN   \n",
            "2433           NaN           NaN          NaN   \n",
            "2434           NaN           NaN          NaN   \n",
            "2435           NaN           NaN          NaN   \n",
            "\n",
            "                               Production   startdate  releasedate  Text  \\\n",
            "0     Walt Disney Studios Motion Pictures  2010-06-11   2010-06-18   NaN   \n",
            "1     Walt Disney Studios Motion Pictures         NaN          NaN   NaN   \n",
            "2                            Warner Bros.  2010-11-12   2010-11-19   NaN   \n",
            "4                            Warner Bros.  2010-07-09   2010-07-16   NaN   \n",
            "5                              DreamWorks  2010-05-14   2010-05-21   NaN   \n",
            "...                                   ...         ...          ...   ...   \n",
            "2431                                  NaN         NaN          NaN   NaN   \n",
            "2432                                  NaN         NaN          NaN   NaN   \n",
            "2433                                  NaN         NaN          NaN   NaN   \n",
            "2434                                  NaN         NaN          NaN   NaN   \n",
            "2435                                  NaN         NaN          NaN   NaN   \n",
            "\n",
            "     mean_google_trend_popularity  \n",
            "0                          46.375  \n",
            "1                             NaN  \n",
            "2                          48.000  \n",
            "4                          33.500  \n",
            "5                          34.625  \n",
            "...                           ...  \n",
            "2431                          NaN  \n",
            "2432                          NaN  \n",
            "2433                          NaN  \n",
            "2434                          NaN  \n",
            "2435                          NaN  \n",
            "\n",
            "[2172 rows x 44 columns]\n"
          ]
        }
      ]
    },
    {
      "cell_type": "code",
      "source": [
        "data = result3"
      ],
      "metadata": {
        "id": "S-v07dzF79cb"
      },
      "execution_count": null,
      "outputs": []
    },
    {
      "cell_type": "code",
      "source": [
        "print(data)"
      ],
      "metadata": {
        "colab": {
          "base_uri": "https://localhost:8080/"
        },
        "id": "GUhhZzLw8ZOn",
        "outputId": "ce1912ea-07a3-4b88-9208-de2ba4252b6a"
      },
      "execution_count": null,
      "outputs": [
        {
          "output_type": "stream",
          "name": "stdout",
          "text": [
            "      Unnamed: 0  index                                   Movie Title  \\\n",
            "0              0      0                                   Toy Story 3   \n",
            "1              1      1                           Alice in Wonderland   \n",
            "2              2      2  Harry Potter and the Deathly Hallows: Part 1   \n",
            "4              4      4                                     Inception   \n",
            "5              5      5                           Shrek Forever After   \n",
            "...          ...    ...                                           ...   \n",
            "2431        2411   2411                                  Arthur Rambo   \n",
            "2432        2412   2412                             Bachchhan Paandey   \n",
            "2433        2413   2413                                      Kernagis   \n",
            "2434        2414   2414                                   Stop-Zemlia   \n",
            "2435        2415   2415                     Listeners: The Whispering   \n",
            "\n",
            "                  actor1  actor1_popularity                actor2  \\\n",
            "0              Tom Hanks             27.299             Tim Allen   \n",
            "1       Kathryn Beaumont              3.164               Ed Wynn   \n",
            "2       Daniel Radcliffe             24.549          Rupert Grint   \n",
            "4      Leonardo DiCaprio             24.953  Joseph Gordon-Levitt   \n",
            "5             Mike Myers             16.026          Eddie Murphy   \n",
            "...                  ...                ...                   ...   \n",
            "2431  Rabah Nait Oufella              4.588      Antoine Reinartz   \n",
            "2432        Akshay Kumar              3.945           Kriti Sanon   \n",
            "2433   Vytautas Kernagis              0.652      Dalia Kernagienė   \n",
            "2434   Maria Fedorchenko              0.600        Arsenii Markov   \n",
            "2435            Quang Sự              0.600             Oanh Kiều   \n",
            "\n",
            "      actor2_popularity                actor3  actor3_popularity  \\\n",
            "0                18.361           Joan Cusack             14.925   \n",
            "1                 5.868         Richard Haydn              5.899   \n",
            "2                11.399           Emma Watson             69.598   \n",
            "4                20.585          Ken Watanabe             19.690   \n",
            "5                13.301          Cameron Diaz             18.596   \n",
            "...                 ...                   ...                ...   \n",
            "2431              2.234     Aleksandra Yermak              1.960   \n",
            "2432              6.833  Jacqueline Fernandez              2.750   \n",
            "2433              0.600        Eglė Kernagytė              0.600   \n",
            "2434              0.600         Yana Isaienko              0.600   \n",
            "2435              3.525        Phạm Quỳnh Anh              0.600   \n",
            "\n",
            "                    actor4  ...  Box Office (Gross USA) Release-Date  \\\n",
            "0              Don Rickles  ...             415000000.0   2010-06-18   \n",
            "1        Sterling Holloway  ...                     NaN   2010-03-05   \n",
            "2     Helena Bonham Carter  ...             295000000.0   2010-11-19   \n",
            "4                Tom Hardy  ...             292600000.0   2010-07-16   \n",
            "5         Antonio Banderas  ...                     NaN   2010-05-21   \n",
            "...                    ...  ...                     ...          ...   \n",
            "2431        Sofian Khammes  ...                     NaN            0   \n",
            "2432          Arshad Warsi  ...                     NaN    2022-3-18   \n",
            "2433                   NaN  ...                     NaN            0   \n",
            "2434      Oleksandr Ivanov  ...                     NaN    2022-1-21   \n",
            "2435            Quốc Cường  ...                     NaN            0   \n",
            "\n",
            "        Revenue      Revenue1  NumTheatres  \\\n",
            "0     415004880  $415,004,880            2   \n",
            "1     334191110  $334,191,110            3   \n",
            "2     280230127  $295,983,305            7   \n",
            "4     292558188  $292,576,195            6   \n",
            "5     238736787  $238,736,787            9   \n",
            "...         ...           ...          ...   \n",
            "2431        NaN           NaN          NaN   \n",
            "2432        NaN           NaN          NaN   \n",
            "2433        NaN           NaN          NaN   \n",
            "2434        NaN           NaN          NaN   \n",
            "2435        NaN           NaN          NaN   \n",
            "\n",
            "                               Production   startdate  releasedate  Text  \\\n",
            "0     Walt Disney Studios Motion Pictures  2010-06-11   2010-06-18   NaN   \n",
            "1     Walt Disney Studios Motion Pictures         NaN          NaN   NaN   \n",
            "2                            Warner Bros.  2010-11-12   2010-11-19   NaN   \n",
            "4                            Warner Bros.  2010-07-09   2010-07-16   NaN   \n",
            "5                              DreamWorks  2010-05-14   2010-05-21   NaN   \n",
            "...                                   ...         ...          ...   ...   \n",
            "2431                                  NaN         NaN          NaN   NaN   \n",
            "2432                                  NaN         NaN          NaN   NaN   \n",
            "2433                                  NaN         NaN          NaN   NaN   \n",
            "2434                                  NaN         NaN          NaN   NaN   \n",
            "2435                                  NaN         NaN          NaN   NaN   \n",
            "\n",
            "     mean_google_trend_popularity  \n",
            "0                          46.375  \n",
            "1                             NaN  \n",
            "2                          48.000  \n",
            "4                          33.500  \n",
            "5                          34.625  \n",
            "...                           ...  \n",
            "2431                          NaN  \n",
            "2432                          NaN  \n",
            "2433                          NaN  \n",
            "2434                          NaN  \n",
            "2435                          NaN  \n",
            "\n",
            "[2172 rows x 44 columns]\n"
          ]
        }
      ]
    },
    {
      "cell_type": "code",
      "source": [
        "li = []\n",
        "for dic in data['Revenue']:\n",
        "  try:\n",
        "    \n",
        "    dic = dic.replace(\"$\",\"\").replace(\",\",\"\")\n",
        "    li.append(dic)\n",
        "  except:\n",
        "    li.append(dic)  \n",
        "data['Revenue'] = li\n"
      ],
      "metadata": {
        "colab": {
          "base_uri": "https://localhost:8080/",
          "height": 341
        },
        "id": "NExkU5t46gUh",
        "outputId": "01e817a3-5700-4a92-e8c6-95f0b863c445"
      },
      "execution_count": null,
      "outputs": [
        {
          "output_type": "error",
          "ename": "KeyError",
          "evalue": "ignored",
          "traceback": [
            "\u001b[0;31m---------------------------------------------------------------------------\u001b[0m",
            "\u001b[0;31mKeyError\u001b[0m                                  Traceback (most recent call last)",
            "\u001b[0;32m<ipython-input-149-d807de4f5c15>\u001b[0m in \u001b[0;36m<module>\u001b[0;34m()\u001b[0m\n\u001b[1;32m     10\u001b[0m \u001b[0;34m\u001b[0m\u001b[0m\n\u001b[1;32m     11\u001b[0m \u001b[0mli\u001b[0m \u001b[0;34m=\u001b[0m \u001b[0;34m[\u001b[0m\u001b[0;34m]\u001b[0m\u001b[0;34m\u001b[0m\u001b[0;34m\u001b[0m\u001b[0m\n\u001b[0;32m---> 12\u001b[0;31m \u001b[0mdata\u001b[0m \u001b[0;34m=\u001b[0m \u001b[0mdata\u001b[0m\u001b[0;34m.\u001b[0m\u001b[0mdrop\u001b[0m\u001b[0;34m(\u001b[0m\u001b[0;34m'Revenue1'\u001b[0m\u001b[0;34m,\u001b[0m\u001b[0maxis\u001b[0m \u001b[0;34m=\u001b[0m \u001b[0;36m1\u001b[0m\u001b[0;34m)\u001b[0m\u001b[0;34m\u001b[0m\u001b[0;34m\u001b[0m\u001b[0m\n\u001b[0m",
            "\u001b[0;32m/usr/local/lib/python3.7/dist-packages/pandas/util/_decorators.py\u001b[0m in \u001b[0;36mwrapper\u001b[0;34m(*args, **kwargs)\u001b[0m\n\u001b[1;32m    309\u001b[0m                     \u001b[0mstacklevel\u001b[0m\u001b[0;34m=\u001b[0m\u001b[0mstacklevel\u001b[0m\u001b[0;34m,\u001b[0m\u001b[0;34m\u001b[0m\u001b[0;34m\u001b[0m\u001b[0m\n\u001b[1;32m    310\u001b[0m                 )\n\u001b[0;32m--> 311\u001b[0;31m             \u001b[0;32mreturn\u001b[0m \u001b[0mfunc\u001b[0m\u001b[0;34m(\u001b[0m\u001b[0;34m*\u001b[0m\u001b[0margs\u001b[0m\u001b[0;34m,\u001b[0m \u001b[0;34m**\u001b[0m\u001b[0mkwargs\u001b[0m\u001b[0;34m)\u001b[0m\u001b[0;34m\u001b[0m\u001b[0;34m\u001b[0m\u001b[0m\n\u001b[0m\u001b[1;32m    312\u001b[0m \u001b[0;34m\u001b[0m\u001b[0m\n\u001b[1;32m    313\u001b[0m         \u001b[0;32mreturn\u001b[0m \u001b[0mwrapper\u001b[0m\u001b[0;34m\u001b[0m\u001b[0;34m\u001b[0m\u001b[0m\n",
            "\u001b[0;32m/usr/local/lib/python3.7/dist-packages/pandas/core/frame.py\u001b[0m in \u001b[0;36mdrop\u001b[0;34m(self, labels, axis, index, columns, level, inplace, errors)\u001b[0m\n\u001b[1;32m   4911\u001b[0m             \u001b[0mlevel\u001b[0m\u001b[0;34m=\u001b[0m\u001b[0mlevel\u001b[0m\u001b[0;34m,\u001b[0m\u001b[0;34m\u001b[0m\u001b[0;34m\u001b[0m\u001b[0m\n\u001b[1;32m   4912\u001b[0m             \u001b[0minplace\u001b[0m\u001b[0;34m=\u001b[0m\u001b[0minplace\u001b[0m\u001b[0;34m,\u001b[0m\u001b[0;34m\u001b[0m\u001b[0;34m\u001b[0m\u001b[0m\n\u001b[0;32m-> 4913\u001b[0;31m             \u001b[0merrors\u001b[0m\u001b[0;34m=\u001b[0m\u001b[0merrors\u001b[0m\u001b[0;34m,\u001b[0m\u001b[0;34m\u001b[0m\u001b[0;34m\u001b[0m\u001b[0m\n\u001b[0m\u001b[1;32m   4914\u001b[0m         )\n\u001b[1;32m   4915\u001b[0m \u001b[0;34m\u001b[0m\u001b[0m\n",
            "\u001b[0;32m/usr/local/lib/python3.7/dist-packages/pandas/core/generic.py\u001b[0m in \u001b[0;36mdrop\u001b[0;34m(self, labels, axis, index, columns, level, inplace, errors)\u001b[0m\n\u001b[1;32m   4148\u001b[0m         \u001b[0;32mfor\u001b[0m \u001b[0maxis\u001b[0m\u001b[0;34m,\u001b[0m \u001b[0mlabels\u001b[0m \u001b[0;32min\u001b[0m \u001b[0maxes\u001b[0m\u001b[0;34m.\u001b[0m\u001b[0mitems\u001b[0m\u001b[0;34m(\u001b[0m\u001b[0;34m)\u001b[0m\u001b[0;34m:\u001b[0m\u001b[0;34m\u001b[0m\u001b[0;34m\u001b[0m\u001b[0m\n\u001b[1;32m   4149\u001b[0m             \u001b[0;32mif\u001b[0m \u001b[0mlabels\u001b[0m \u001b[0;32mis\u001b[0m \u001b[0;32mnot\u001b[0m \u001b[0;32mNone\u001b[0m\u001b[0;34m:\u001b[0m\u001b[0;34m\u001b[0m\u001b[0;34m\u001b[0m\u001b[0m\n\u001b[0;32m-> 4150\u001b[0;31m                 \u001b[0mobj\u001b[0m \u001b[0;34m=\u001b[0m \u001b[0mobj\u001b[0m\u001b[0;34m.\u001b[0m\u001b[0m_drop_axis\u001b[0m\u001b[0;34m(\u001b[0m\u001b[0mlabels\u001b[0m\u001b[0;34m,\u001b[0m \u001b[0maxis\u001b[0m\u001b[0;34m,\u001b[0m \u001b[0mlevel\u001b[0m\u001b[0;34m=\u001b[0m\u001b[0mlevel\u001b[0m\u001b[0;34m,\u001b[0m \u001b[0merrors\u001b[0m\u001b[0;34m=\u001b[0m\u001b[0merrors\u001b[0m\u001b[0;34m)\u001b[0m\u001b[0;34m\u001b[0m\u001b[0;34m\u001b[0m\u001b[0m\n\u001b[0m\u001b[1;32m   4151\u001b[0m \u001b[0;34m\u001b[0m\u001b[0m\n\u001b[1;32m   4152\u001b[0m         \u001b[0;32mif\u001b[0m \u001b[0minplace\u001b[0m\u001b[0;34m:\u001b[0m\u001b[0;34m\u001b[0m\u001b[0;34m\u001b[0m\u001b[0m\n",
            "\u001b[0;32m/usr/local/lib/python3.7/dist-packages/pandas/core/generic.py\u001b[0m in \u001b[0;36m_drop_axis\u001b[0;34m(self, labels, axis, level, errors)\u001b[0m\n\u001b[1;32m   4183\u001b[0m                 \u001b[0mnew_axis\u001b[0m \u001b[0;34m=\u001b[0m \u001b[0maxis\u001b[0m\u001b[0;34m.\u001b[0m\u001b[0mdrop\u001b[0m\u001b[0;34m(\u001b[0m\u001b[0mlabels\u001b[0m\u001b[0;34m,\u001b[0m \u001b[0mlevel\u001b[0m\u001b[0;34m=\u001b[0m\u001b[0mlevel\u001b[0m\u001b[0;34m,\u001b[0m \u001b[0merrors\u001b[0m\u001b[0;34m=\u001b[0m\u001b[0merrors\u001b[0m\u001b[0;34m)\u001b[0m\u001b[0;34m\u001b[0m\u001b[0;34m\u001b[0m\u001b[0m\n\u001b[1;32m   4184\u001b[0m             \u001b[0;32melse\u001b[0m\u001b[0;34m:\u001b[0m\u001b[0;34m\u001b[0m\u001b[0;34m\u001b[0m\u001b[0m\n\u001b[0;32m-> 4185\u001b[0;31m                 \u001b[0mnew_axis\u001b[0m \u001b[0;34m=\u001b[0m \u001b[0maxis\u001b[0m\u001b[0;34m.\u001b[0m\u001b[0mdrop\u001b[0m\u001b[0;34m(\u001b[0m\u001b[0mlabels\u001b[0m\u001b[0;34m,\u001b[0m \u001b[0merrors\u001b[0m\u001b[0;34m=\u001b[0m\u001b[0merrors\u001b[0m\u001b[0;34m)\u001b[0m\u001b[0;34m\u001b[0m\u001b[0;34m\u001b[0m\u001b[0m\n\u001b[0m\u001b[1;32m   4186\u001b[0m             \u001b[0mresult\u001b[0m \u001b[0;34m=\u001b[0m \u001b[0mself\u001b[0m\u001b[0;34m.\u001b[0m\u001b[0mreindex\u001b[0m\u001b[0;34m(\u001b[0m\u001b[0;34m**\u001b[0m\u001b[0;34m{\u001b[0m\u001b[0maxis_name\u001b[0m\u001b[0;34m:\u001b[0m \u001b[0mnew_axis\u001b[0m\u001b[0;34m}\u001b[0m\u001b[0;34m)\u001b[0m\u001b[0;34m\u001b[0m\u001b[0;34m\u001b[0m\u001b[0m\n\u001b[1;32m   4187\u001b[0m \u001b[0;34m\u001b[0m\u001b[0m\n",
            "\u001b[0;32m/usr/local/lib/python3.7/dist-packages/pandas/core/indexes/base.py\u001b[0m in \u001b[0;36mdrop\u001b[0;34m(self, labels, errors)\u001b[0m\n\u001b[1;32m   6015\u001b[0m         \u001b[0;32mif\u001b[0m \u001b[0mmask\u001b[0m\u001b[0;34m.\u001b[0m\u001b[0many\u001b[0m\u001b[0;34m(\u001b[0m\u001b[0;34m)\u001b[0m\u001b[0;34m:\u001b[0m\u001b[0;34m\u001b[0m\u001b[0;34m\u001b[0m\u001b[0m\n\u001b[1;32m   6016\u001b[0m             \u001b[0;32mif\u001b[0m \u001b[0merrors\u001b[0m \u001b[0;34m!=\u001b[0m \u001b[0;34m\"ignore\"\u001b[0m\u001b[0;34m:\u001b[0m\u001b[0;34m\u001b[0m\u001b[0;34m\u001b[0m\u001b[0m\n\u001b[0;32m-> 6017\u001b[0;31m                 \u001b[0;32mraise\u001b[0m \u001b[0mKeyError\u001b[0m\u001b[0;34m(\u001b[0m\u001b[0;34mf\"{labels[mask]} not found in axis\"\u001b[0m\u001b[0;34m)\u001b[0m\u001b[0;34m\u001b[0m\u001b[0;34m\u001b[0m\u001b[0m\n\u001b[0m\u001b[1;32m   6018\u001b[0m             \u001b[0mindexer\u001b[0m \u001b[0;34m=\u001b[0m \u001b[0mindexer\u001b[0m\u001b[0;34m[\u001b[0m\u001b[0;34m~\u001b[0m\u001b[0mmask\u001b[0m\u001b[0;34m]\u001b[0m\u001b[0;34m\u001b[0m\u001b[0;34m\u001b[0m\u001b[0m\n\u001b[1;32m   6019\u001b[0m         \u001b[0;32mreturn\u001b[0m \u001b[0mself\u001b[0m\u001b[0;34m.\u001b[0m\u001b[0mdelete\u001b[0m\u001b[0;34m(\u001b[0m\u001b[0mindexer\u001b[0m\u001b[0;34m)\u001b[0m\u001b[0;34m\u001b[0m\u001b[0;34m\u001b[0m\u001b[0m\n",
            "\u001b[0;31mKeyError\u001b[0m: \"['Revenue1'] not found in axis\""
          ]
        }
      ]
    },
    {
      "cell_type": "code",
      "source": [
        "df = pd.read_csv(\"/content/gdrive/MyDrive/tomatopy/gt1-data.csv\", encoding='utf-8')"
      ],
      "metadata": {
        "id": "3MVUnYeV6eRY"
      },
      "execution_count": null,
      "outputs": []
    },
    {
      "cell_type": "code",
      "source": [
        "li = []\n",
        "for dic in df['Revenue-1']:\n",
        "  try:\n",
        "    \n",
        "    dic = dic.replace(\"$\",\"\").replace(\",\",\"\")\n",
        "    li.append(dic)\n",
        "  except:\n",
        "    li.append(dic)  \n",
        "df['Revenue-1'] = li"
      ],
      "metadata": {
        "id": "uiB2GUKqm5To"
      },
      "execution_count": null,
      "outputs": []
    },
    {
      "cell_type": "code",
      "source": [
        "df.to_csv(\"/content/gdrive/MyDrive/tomatopy/cleaned-data.csv\", encoding='utf-8')"
      ],
      "metadata": {
        "id": "jruAqf8m9c8n"
      },
      "execution_count": null,
      "outputs": []
    },
    {
      "cell_type": "code",
      "source": [
        "print(df)"
      ],
      "metadata": {
        "colab": {
          "base_uri": "https://localhost:8080/"
        },
        "id": "m6DwoUQ9mvIR",
        "outputId": "1420edab-4c6a-4e9c-9920-b0b99bb66057"
      },
      "execution_count": null,
      "outputs": [
        {
          "output_type": "stream",
          "name": "stdout",
          "text": [
            "      Unnamed: 0  index                                   Movie Title  \\\n",
            "0              0      0                                   Toy Story 3   \n",
            "1              1      1                           Alice in Wonderland   \n",
            "2              2      2  Harry Potter and the Deathly Hallows: Part 1   \n",
            "3              4      4                                     Inception   \n",
            "4              5      5                           Shrek Forever After   \n",
            "...          ...    ...                                           ...   \n",
            "2167        2431   2411                                  Arthur Rambo   \n",
            "2168        2432   2412                             Bachchhan Paandey   \n",
            "2169        2433   2413                                      Kernagis   \n",
            "2170        2434   2414                                   Stop-Zemlia   \n",
            "2171        2435   2415                     Listeners: The Whispering   \n",
            "\n",
            "                  actor1  actor1_popularity                actor2  \\\n",
            "0              Tom Hanks             27.299             Tim Allen   \n",
            "1       Kathryn Beaumont              3.164               Ed Wynn   \n",
            "2       Daniel Radcliffe             24.549          Rupert Grint   \n",
            "3      Leonardo DiCaprio             24.953  Joseph Gordon-Levitt   \n",
            "4             Mike Myers             16.026          Eddie Murphy   \n",
            "...                  ...                ...                   ...   \n",
            "2167  Rabah Nait Oufella              4.588      Antoine Reinartz   \n",
            "2168        Akshay Kumar              3.945           Kriti Sanon   \n",
            "2169   Vytautas Kernagis              0.652      Dalia Kernagienė   \n",
            "2170   Maria Fedorchenko              0.600        Arsenii Markov   \n",
            "2171            Quang Sự              0.600             Oanh Kiều   \n",
            "\n",
            "      actor2_popularity                actor3  actor3_popularity  \\\n",
            "0                18.361           Joan Cusack             14.925   \n",
            "1                 5.868         Richard Haydn              5.899   \n",
            "2                11.399           Emma Watson             69.598   \n",
            "3                20.585          Ken Watanabe             19.690   \n",
            "4                13.301          Cameron Diaz             18.596   \n",
            "...                 ...                   ...                ...   \n",
            "2167              2.234     Aleksandra Yermak              1.960   \n",
            "2168              6.833  Jacqueline Fernandez              2.750   \n",
            "2169              0.600        Eglė Kernagytė              0.600   \n",
            "2170              0.600         Yana Isaienko              0.600   \n",
            "2171              3.525        Phạm Quỳnh Anh              0.600   \n",
            "\n",
            "                    actor4  ...                      Director  \\\n",
            "0              Don Rickles  ...                   Lee Unkrich   \n",
            "1        Sterling Holloway  ...  Cecil M. Hepworth,Percy Stow   \n",
            "2     Helena Bonham Carter  ...                   David Yates   \n",
            "3                Tom Hardy  ...             Christopher Nolan   \n",
            "4         Antonio Banderas  ...                 Mike Mitchell   \n",
            "...                    ...  ...                           ...   \n",
            "2167        Sofian Khammes  ...                Laurent Cantet   \n",
            "2168          Arshad Warsi  ...                  Farhad Samji   \n",
            "2169                   NaN  ...                           NaN   \n",
            "2170      Oleksandr Ivanov  ...            Kateryna Gornostai   \n",
            "2171            Quốc Cường  ...                           NaN   \n",
            "\n",
            "                                               Producer  \\\n",
            "0                                     Darla K. Anderson   \n",
            "1                                                   NaN   \n",
            "2                David Heyman,David Barron,J.K. Rowling   \n",
            "3                         Christopher Nolan,Emma Thomas   \n",
            "4                                Gina Shay,Teresa Cheng   \n",
            "...                                                 ...   \n",
            "2167                                 Marie-Ange Luciani   \n",
            "2168                      Sajid Nadiadwala,Manoj Mittra   \n",
            "2169                                                NaN   \n",
            "2170  Olga Beskhmelnitsyna,Viktoria Khomenko,Natalia...   \n",
            "2171                                                NaN   \n",
            "\n",
            "      Box Office (Gross USA)  Release-Date      Revenue  NumTheatres  \\\n",
            "0                415000000.0    2010-06-18  415004880.0          2.0   \n",
            "1                        NaN    2010-03-05  334191110.0          3.0   \n",
            "2                295000000.0    2010-11-19  280230127.0          7.0   \n",
            "3                292600000.0    2010-07-16  292558188.0          6.0   \n",
            "4                        NaN    2010-05-21  238736787.0          9.0   \n",
            "...                      ...           ...          ...          ...   \n",
            "2167                     NaN             0          NaN          NaN   \n",
            "2168                     NaN    2022-03-18          NaN          NaN   \n",
            "2169                     NaN             0          NaN          NaN   \n",
            "2170                     NaN    2022-01-21          NaN          NaN   \n",
            "2171                     NaN             0          NaN          NaN   \n",
            "\n",
            "                               Production   startdate  \\\n",
            "0     Walt Disney Studios Motion Pictures  2010-06-11   \n",
            "1     Walt Disney Studios Motion Pictures         NaN   \n",
            "2                            Warner Bros.  2010-11-12   \n",
            "3                            Warner Bros.  2010-07-09   \n",
            "4                              DreamWorks  2010-05-14   \n",
            "...                                   ...         ...   \n",
            "2167                                  NaN         NaN   \n",
            "2168                                  NaN         NaN   \n",
            "2169                                  NaN         NaN   \n",
            "2170                                  NaN         NaN   \n",
            "2171                                  NaN         NaN   \n",
            "\n",
            "      mean_google_trend_popularity     Revenue-1  \n",
            "0                           46.375  415004880.00  \n",
            "1                              NaN  334191110.00  \n",
            "2                           48.000  295983305.00  \n",
            "3                           33.500  292576195.00  \n",
            "4                           34.625  238736787.00  \n",
            "...                            ...           ...  \n",
            "2167                           NaN           NaN  \n",
            "2168                           NaN           NaN  \n",
            "2169                           NaN           NaN  \n",
            "2170                           NaN           NaN  \n",
            "2171                           NaN           NaN  \n",
            "\n",
            "[2172 rows x 42 columns]\n"
          ]
        }
      ]
    },
    {
      "cell_type": "code",
      "source": [
        "(df['budget'] ==0.0).sum()"
      ],
      "metadata": {
        "colab": {
          "base_uri": "https://localhost:8080/"
        },
        "id": "PEO6tRaMpeV7",
        "outputId": "96ceb2a0-f260-4484-c8ca-a46e7ef2073f"
      },
      "execution_count": null,
      "outputs": [
        {
          "output_type": "execute_result",
          "data": {
            "text/plain": [
              "716"
            ]
          },
          "metadata": {},
          "execution_count": 29
        }
      ]
    },
    {
      "cell_type": "code",
      "source": [
        "(df['revenue'] ==0.0).sum()"
      ],
      "metadata": {
        "colab": {
          "base_uri": "https://localhost:8080/"
        },
        "id": "ze0VQN1Xpjvy",
        "outputId": "4114f6d0-31d0-432c-c6a6-a0f687a9a7ad"
      },
      "execution_count": null,
      "outputs": [
        {
          "output_type": "execute_result",
          "data": {
            "text/plain": [
              "592"
            ]
          },
          "metadata": {},
          "execution_count": 30
        }
      ]
    },
    {
      "cell_type": "code",
      "source": [
        "df['Revenue'].isna().sum()"
      ],
      "metadata": {
        "colab": {
          "base_uri": "https://localhost:8080/"
        },
        "id": "kD3wgzIQpn9u",
        "outputId": "df6c786c-0abd-49f5-a425-bd68f6c4a6cf"
      },
      "execution_count": null,
      "outputs": [
        {
          "output_type": "execute_result",
          "data": {
            "text/plain": [
              "796"
            ]
          },
          "metadata": {},
          "execution_count": 31
        }
      ]
    },
    {
      "cell_type": "code",
      "source": [
        "(df['tmdb_popularity'] ==0.0).sum()"
      ],
      "metadata": {
        "colab": {
          "base_uri": "https://localhost:8080/"
        },
        "id": "iMRvTG_NnPKO",
        "outputId": "a235c498-51eb-415d-ddf9-c4fab958522f"
      },
      "execution_count": null,
      "outputs": [
        {
          "output_type": "execute_result",
          "data": {
            "text/plain": [
              "1"
            ]
          },
          "metadata": {},
          "execution_count": 32
        }
      ]
    },
    {
      "cell_type": "code",
      "source": [
        "df = df[df.revenue != 0.0]\n",
        "df = df[df.budget != 0.0]"
      ],
      "metadata": {
        "id": "mBYLAiUkqdbM"
      },
      "execution_count": null,
      "outputs": []
    },
    {
      "cell_type": "code",
      "source": [
        "df = df[df.budget != 0.0]"
      ],
      "metadata": {
        "id": "5-FymD61qlWi"
      },
      "execution_count": null,
      "outputs": []
    },
    {
      "cell_type": "code",
      "source": [
        "print(df)"
      ],
      "metadata": {
        "colab": {
          "base_uri": "https://localhost:8080/"
        },
        "id": "kqR_6gJUqhhU",
        "outputId": "39b91345-3e82-4fa3-e47c-eb05505d0458"
      },
      "execution_count": null,
      "outputs": [
        {
          "output_type": "stream",
          "name": "stdout",
          "text": [
            "      Unnamed: 0  index                                   Movie Title  \\\n",
            "0              0      0                                   Toy Story 3   \n",
            "1              1      1                           Alice in Wonderland   \n",
            "2              2      2  Harry Potter and the Deathly Hallows: Part 1   \n",
            "3              4      4                                     Inception   \n",
            "4              5      5                           Shrek Forever After   \n",
            "...          ...    ...                                           ...   \n",
            "2059        2322   2302                                   Turning Red   \n",
            "2061        2324   2304                                        Cyrano   \n",
            "2068        2331   2311                                     Ambulance   \n",
            "2082        2345   2325                   Around the World in 80 Days   \n",
            "2098        2361   2341                                      Swingers   \n",
            "\n",
            "                     actor1  actor1_popularity                actor2  \\\n",
            "0                 Tom Hanks             27.299             Tim Allen   \n",
            "1          Kathryn Beaumont              3.164               Ed Wynn   \n",
            "2          Daniel Radcliffe             24.549          Rupert Grint   \n",
            "3         Leonardo DiCaprio             24.953  Joseph Gordon-Levitt   \n",
            "4                Mike Myers             16.026          Eddie Murphy   \n",
            "...                     ...                ...                   ...   \n",
            "2059         Rosalie Chiang              9.263             Sandra Oh   \n",
            "2061         Peter Dinklage             14.994         Haley Bennett   \n",
            "2068  Yahya Abdul-Mateen II             11.716       Jake Gyllenhaal   \n",
            "2082            Jackie Chan             26.273          Steve Coogan   \n",
            "2098           Vince Vaughn             17.127           Jon Favreau   \n",
            "\n",
            "      actor2_popularity               actor3  actor3_popularity  \\\n",
            "0                18.361          Joan Cusack             14.925   \n",
            "1                 5.868        Richard Haydn              5.899   \n",
            "2                11.399          Emma Watson             69.598   \n",
            "3                20.585         Ken Watanabe             19.690   \n",
            "4                13.301         Cameron Diaz             18.596   \n",
            "...                 ...                  ...                ...   \n",
            "2059             16.974            Ava Morse             10.545   \n",
            "2061             25.423  Kelvin Harrison Jr.             12.327   \n",
            "2068             21.848        Eiza González             26.314   \n",
            "2082              8.401     Cécile de France             12.926   \n",
            "2098             13.562       Heather Graham             20.946   \n",
            "\n",
            "                    actor4  ...                      Director  \\\n",
            "0              Don Rickles  ...                   Lee Unkrich   \n",
            "1        Sterling Holloway  ...  Cecil M. Hepworth,Percy Stow   \n",
            "2     Helena Bonham Carter  ...                   David Yates   \n",
            "3                Tom Hardy  ...             Christopher Nolan   \n",
            "4         Antonio Banderas  ...                 Mike Mitchell   \n",
            "...                    ...  ...                           ...   \n",
            "2059            Hyein Park  ...                     Domee Shi   \n",
            "2061        Ben Mendelsohn  ...                    Joe Wright   \n",
            "2068      Garret Dillahunt  ...                   Michael Bay   \n",
            "2082         Jim Broadbent  ...                           NaN   \n",
            "2098      Patrick Van Horn  ...     Andrejs Ekis,Dmitriy Fiks   \n",
            "\n",
            "                                               Producer  \\\n",
            "0                                     Darla K. Anderson   \n",
            "1                                                   NaN   \n",
            "2                David Heyman,David Barron,J.K. Rowling   \n",
            "3                         Christopher Nolan,Emma Thomas   \n",
            "4                                Gina Shay,Teresa Cheng   \n",
            "...                                                 ...   \n",
            "2059                                    Lindsey Collins   \n",
            "2061                  Tim Bevan,Eric Fellner,Guy Heeley   \n",
            "2068  Michael Bay,Bradley J. Fischer,James Vanderbil...   \n",
            "2082                                                NaN   \n",
            "2098  Kristians Alhimionoks,Andrejs Ekis,Dmitriy Fik...   \n",
            "\n",
            "      Box Office (Gross USA)  Release-Date      Revenue  NumTheatres  \\\n",
            "0                415000000.0    2010-06-18  415004880.0          2.0   \n",
            "1                        NaN    2010-03-05  334191110.0          3.0   \n",
            "2                295000000.0    2010-11-19  280230127.0          7.0   \n",
            "3                292600000.0    2010-07-16  292558188.0          6.0   \n",
            "4                        NaN    2010-05-21  238736787.0          9.0   \n",
            "...                      ...           ...          ...          ...   \n",
            "2059                     NaN             0          NaN          NaN   \n",
            "2061               3900000.0    2022-02-25    3849448.0         31.0   \n",
            "2068              15700000.0    2022-04-08          NaN          NaN   \n",
            "2082                     NaN             0          NaN          NaN   \n",
            "2098                     NaN    2022-01-27          NaN          NaN   \n",
            "\n",
            "                               Production   startdate  \\\n",
            "0     Walt Disney Studios Motion Pictures  2010-06-11   \n",
            "1     Walt Disney Studios Motion Pictures         NaN   \n",
            "2                            Warner Bros.  2010-11-12   \n",
            "3                            Warner Bros.  2010-07-09   \n",
            "4                              DreamWorks  2010-05-14   \n",
            "...                                   ...         ...   \n",
            "2059                                  NaN         NaN   \n",
            "2061             United Artists Releasing  2022-02-18   \n",
            "2068                                  NaN         NaN   \n",
            "2082                                  NaN         NaN   \n",
            "2098                                  NaN         NaN   \n",
            "\n",
            "      mean_google_trend_popularity     Revenue-1  \n",
            "0                           46.375  415004880.00  \n",
            "1                              NaN  334191110.00  \n",
            "2                           48.000  295983305.00  \n",
            "3                           33.500  292576195.00  \n",
            "4                           34.625  238736787.00  \n",
            "...                            ...           ...  \n",
            "2059                           NaN           NaN  \n",
            "2061                        57.375    3849448.00  \n",
            "2068                           NaN           NaN  \n",
            "2082                           NaN           NaN  \n",
            "2098                           NaN           NaN  \n",
            "\n",
            "[1384 rows x 42 columns]\n"
          ]
        }
      ]
    },
    {
      "cell_type": "code",
      "source": [
        "correlation = df['budget'].corr(df['revenue'])"
      ],
      "metadata": {
        "id": "rPP_F_HdrMpQ"
      },
      "execution_count": null,
      "outputs": []
    },
    {
      "cell_type": "code",
      "source": [
        "print(correlation)"
      ],
      "metadata": {
        "colab": {
          "base_uri": "https://localhost:8080/"
        },
        "id": "x4ZJDR4-ra-j",
        "outputId": "647d2b51-355d-4aec-fd88-49a48a954254"
      },
      "execution_count": null,
      "outputs": [
        {
          "output_type": "stream",
          "name": "stdout",
          "text": [
            "0.7273151112381133\n"
          ]
        }
      ]
    },
    {
      "cell_type": "code",
      "source": [
        "df1 = df[df.tmdb_popularity != 0.0]"
      ],
      "metadata": {
        "id": "GwDiheFSrqZS"
      },
      "execution_count": null,
      "outputs": []
    },
    {
      "cell_type": "code",
      "source": [
        "df1 = df1[df1.revenue!=0.0]"
      ],
      "metadata": {
        "id": "Fj-M454Krujn"
      },
      "execution_count": null,
      "outputs": []
    },
    {
      "cell_type": "code",
      "source": [
        "correlation = df1['tmdb_popularity'].corr(df1['revenue'])"
      ],
      "metadata": {
        "id": "YRKrVvvVr_v5"
      },
      "execution_count": null,
      "outputs": []
    },
    {
      "cell_type": "code",
      "source": [
        "print(correlation)"
      ],
      "metadata": {
        "colab": {
          "base_uri": "https://localhost:8080/"
        },
        "id": "06diQScSsFLy",
        "outputId": "d233f7d3-b09e-4133-a754-81345a0d437b"
      },
      "execution_count": null,
      "outputs": [
        {
          "output_type": "stream",
          "name": "stdout",
          "text": [
            "0.19466557343813223\n"
          ]
        }
      ]
    },
    {
      "cell_type": "code",
      "source": [
        ""
      ],
      "metadata": {
        "id": "QRgheMh3uB19"
      },
      "execution_count": null,
      "outputs": []
    },
    {
      "cell_type": "code",
      "source": [
        "print(df['Score_Audience'].isna().sum())\n",
        "df1 = df[df['Score_Audience'].notna()]\n",
        "\n",
        "df1[df1.revenue!=0.0]\n",
        "correlation = df1['Score_Audience'].corr(df1['revenue'])\n",
        "print(correlation)"
      ],
      "metadata": {
        "colab": {
          "base_uri": "https://localhost:8080/"
        },
        "id": "PxiugJQfsGqw",
        "outputId": "b4db0577-1996-47ce-c3f9-a261333b1dc0"
      },
      "execution_count": null,
      "outputs": [
        {
          "output_type": "stream",
          "name": "stdout",
          "text": [
            "500\n",
            "0.21793373677105882\n"
          ]
        }
      ]
    },
    {
      "cell_type": "code",
      "source": [
        "print(df['Score_Rotten'].isna().sum())\n",
        "df1 = df[df['Score_Rotten'].notna()]\n",
        "\n",
        "df1[df1.revenue!=0.0]\n",
        "correlation = df1['Score_Rotten'].corr(df1['revenue'])\n",
        "print(correlation)"
      ],
      "metadata": {
        "colab": {
          "base_uri": "https://localhost:8080/"
        },
        "id": "nPBIwThUuUMb",
        "outputId": "9fae7584-2082-45e7-bd97-cd99679d186d"
      },
      "execution_count": null,
      "outputs": [
        {
          "output_type": "stream",
          "name": "stdout",
          "text": [
            "647\n",
            "0.14495645170878216\n"
          ]
        }
      ]
    },
    {
      "cell_type": "code",
      "source": [
        "print(df['averageRating'].isna().sum())\n",
        "df1 = df[df['averageRating'].notna()]\n",
        "\n",
        "df1[df1.revenue!=0.0]\n",
        "correlation = df1['averageRating'].corr(df1['revenue'])\n",
        "print(correlation)"
      ],
      "metadata": {
        "colab": {
          "base_uri": "https://localhost:8080/"
        },
        "id": "QkwJvzoiuexb",
        "outputId": "83cbd870-dff2-43af-8a30-a4009d0fac07"
      },
      "execution_count": null,
      "outputs": [
        {
          "output_type": "stream",
          "name": "stdout",
          "text": [
            "0\n",
            "0.25199988457930805\n"
          ]
        }
      ]
    },
    {
      "cell_type": "code",
      "source": [
        "print(df['numVotes'].isna().sum())\n",
        "df1 = df[df['numVotes'].notna()]\n",
        "\n",
        "df1[df1.revenue!=0.0]\n",
        "correlation = df1['numVotes'].corr(df1['revenue'])\n",
        "print(correlation)\n",
        "\n"
      ],
      "metadata": {
        "colab": {
          "base_uri": "https://localhost:8080/"
        },
        "id": "t8dFvAhzvC6Q",
        "outputId": "c2868d62-0a01-48cb-9263-20eaf84a1dbd"
      },
      "execution_count": null,
      "outputs": [
        {
          "output_type": "stream",
          "name": "stdout",
          "text": [
            "0\n",
            "0.6734286322465683\n"
          ]
        }
      ]
    },
    {
      "cell_type": "code",
      "source": [
        "dfo = df[df.revenue != 0.0]\n",
        "dfo = dfo[dfo.budget != 0.0]"
      ],
      "metadata": {
        "id": "JuSYl9p2vXIY"
      },
      "execution_count": null,
      "outputs": []
    },
    {
      "cell_type": "code",
      "source": [
        "li = []\n",
        "for index, row in dfo.iterrows():\n",
        "  val = (row['revenue'] - row['budget'])/(row['budget'])\n",
        "  li.append(val)\n",
        "dfo['profit-percent'] = li"
      ],
      "metadata": {
        "id": "SwHP65zPvz6-"
      },
      "execution_count": null,
      "outputs": []
    },
    {
      "cell_type": "code",
      "source": [
        "print(dfo)\n",
        "print(dfo['profit-percent'].tolist())"
      ],
      "metadata": {
        "id": "d1fzlnrTwft0"
      },
      "execution_count": null,
      "outputs": []
    },
    {
      "cell_type": "code",
      "source": [
        "print(dfo['Score_Audience'].isna().sum())\n",
        "df1 = dfo[dfo['Score_Audience'].notna()]\n",
        "\n",
        "correlation = df1['Score_Audience'].corr(df1['profit-percent'])\n",
        "print(correlation)"
      ],
      "metadata": {
        "colab": {
          "base_uri": "https://localhost:8080/"
        },
        "id": "M_qZKwJAx2L_",
        "outputId": "52c612c3-706b-43ea-df28-446c2f075856"
      },
      "execution_count": null,
      "outputs": [
        {
          "output_type": "stream",
          "name": "stdout",
          "text": [
            "109\n",
            "0.03427042883689355\n"
          ]
        }
      ]
    },
    {
      "cell_type": "code",
      "source": [
        "print(dfo['numVotes'].isna().sum())\n",
        "df1 = dfo[dfo['numVotes'].notna()]\n",
        "\n",
        "correlation = df1['numVotes'].corr(df1['profit-percent'])\n",
        "print(correlation)"
      ],
      "metadata": {
        "colab": {
          "base_uri": "https://localhost:8080/"
        },
        "id": "C_2dn2FdyRVg",
        "outputId": "60cbc8e5-00ab-495f-be0c-77f794e0e150"
      },
      "execution_count": null,
      "outputs": [
        {
          "output_type": "stream",
          "name": "stdout",
          "text": [
            "0\n",
            "-0.023123366959620733\n"
          ]
        }
      ]
    },
    {
      "cell_type": "code",
      "source": [
        "print(dfo['averageRating'].isna().sum())\n",
        "df1 = dfo[dfo['averageRating'].notna()]\n",
        "\n",
        "correlation = df1['averageRating'].corr(df1['profit-percent'])\n",
        "print(correlation)"
      ],
      "metadata": {
        "colab": {
          "base_uri": "https://localhost:8080/"
        },
        "id": "H1wTrcReybE3",
        "outputId": "b396e469-beb7-4f63-f1b6-a101f129a835"
      },
      "execution_count": null,
      "outputs": [
        {
          "output_type": "stream",
          "name": "stdout",
          "text": [
            "0\n",
            "0.002788013091175951\n"
          ]
        }
      ]
    },
    {
      "cell_type": "code",
      "source": [
        "print(dfo['tmdb_popularity'].isna().sum())\n",
        "df1 = dfo[dfo['tmdb_popularity'].notna()]\n",
        "\n",
        "correlation = df1['tmdb_popularity'].corr(df1['profit-percent'])\n",
        "print(correlation)\n"
      ],
      "metadata": {
        "colab": {
          "base_uri": "https://localhost:8080/"
        },
        "id": "tzZW3j6Dymkn",
        "outputId": "2d95a4d6-59aa-4857-93a7-b29e523fb363"
      },
      "execution_count": null,
      "outputs": [
        {
          "output_type": "stream",
          "name": "stdout",
          "text": [
            "0\n",
            "-0.008244188750656729\n"
          ]
        }
      ]
    },
    {
      "cell_type": "code",
      "source": [
        "print(dfo['Score_Rotten'].isna().sum())\n",
        "df1 = dfo[dfo['Score_Rotten'].notna()]\n",
        "\n",
        "correlation = df1['Score_Rotten'].corr(df1['profit-percent'])\n",
        "print(correlation)"
      ],
      "metadata": {
        "colab": {
          "base_uri": "https://localhost:8080/"
        },
        "id": "jfhcX33VzCW9",
        "outputId": "f7b16a23-6877-4ed9-ac0b-3bbde01ec9e8"
      },
      "execution_count": null,
      "outputs": [
        {
          "output_type": "stream",
          "name": "stdout",
          "text": [
            "144\n",
            "0.04944465878336549\n"
          ]
        }
      ]
    },
    {
      "cell_type": "code",
      "source": [
        "print(dfo['mean_google_trend_popularity'].isna().sum())\n",
        "df1 = dfo[dfo['mean_google_trend_popularity'].notna()]\n",
        "\n",
        "correlation = df1['mean_google_trend_popularity'].corr(df1['profit-percent'])\n",
        "print(correlation)\n"
      ],
      "metadata": {
        "colab": {
          "base_uri": "https://localhost:8080/"
        },
        "id": "xJ7DihDQzX0d",
        "outputId": "7830be85-edc0-44a5-c4db-a957b8d4d10d"
      },
      "execution_count": null,
      "outputs": [
        {
          "output_type": "stream",
          "name": "stdout",
          "text": [
            "104\n",
            "0.03294551272617163\n"
          ]
        }
      ]
    },
    {
      "cell_type": "code",
      "source": [
        "print(dfo['mean_google_trend_popularity'].isna().sum())\n",
        "df1 = dfo[dfo['mean_google_trend_popularity'].notna()]\n",
        "\n",
        "correlation = df1['mean_google_trend_popularity'].corr(df1['profit-percent'])\n",
        "print(correlation)"
      ],
      "metadata": {
        "id": "C235YowXzkQs"
      },
      "execution_count": null,
      "outputs": []
    },
    {
      "cell_type": "code",
      "source": [
        "dfo = df[df.budget != 0.0]\n",
        "print(dfo)\n",
        "li = []\n",
        "for index, row in dfo.iterrows():\n",
        "  val = (row['Worldwide'] - row['budget'])/(row['budget'])\n",
        "  li.append(val)\n",
        "dfo['profit-percent'] = li\n",
        "print(dfo)"
      ],
      "metadata": {
        "colab": {
          "base_uri": "https://localhost:8080/"
        },
        "id": "HG9XdBLZ1qX6",
        "outputId": "034c3fe5-1dac-4c87-9491-78a2a5a3eed9"
      },
      "execution_count": null,
      "outputs": [
        {
          "output_type": "stream",
          "name": "stdout",
          "text": [
            "      Unnamed: 0  index                                   Movie Title  \\\n",
            "0              0      0                                   Toy Story 3   \n",
            "1              1      1                           Alice in Wonderland   \n",
            "2              2      2  Harry Potter and the Deathly Hallows: Part 1   \n",
            "3              4      4                                     Inception   \n",
            "4              5      5                           Shrek Forever After   \n",
            "...          ...    ...                                           ...   \n",
            "2082        2345   2325                   Around the World in 80 Days   \n",
            "2083        2346   2326                           The Exorcism of God   \n",
            "2098        2361   2341                                      Swingers   \n",
            "2109        2372   2352                                Alors on danse   \n",
            "2132        2395   2375                                  Murder Party   \n",
            "\n",
            "                 actor1  actor1_popularity                   actor2  \\\n",
            "0             Tom Hanks             27.299                Tim Allen   \n",
            "1      Kathryn Beaumont              3.164                  Ed Wynn   \n",
            "2      Daniel Radcliffe             24.549             Rupert Grint   \n",
            "3     Leonardo DiCaprio             24.953     Joseph Gordon-Levitt   \n",
            "4            Mike Myers             16.026             Eddie Murphy   \n",
            "...                 ...                ...                      ...   \n",
            "2082        Jackie Chan             26.273             Steve Coogan   \n",
            "2083     Will Beinbrink              4.679  María Gabriela de Faría   \n",
            "2098       Vince Vaughn             17.127              Jon Favreau   \n",
            "2109     Isabelle Nanty              9.095          Michèle Laroque   \n",
            "2132        Chris Sharp              0.677              Macon Blair   \n",
            "\n",
            "      actor2_popularity             actor3  actor3_popularity  \\\n",
            "0                18.361        Joan Cusack             14.925   \n",
            "1                 5.868      Richard Haydn              5.899   \n",
            "2                11.399        Emma Watson             69.598   \n",
            "3                20.585       Ken Watanabe             19.690   \n",
            "4                13.301       Cameron Diaz             18.596   \n",
            "...                 ...                ...                ...   \n",
            "2082              8.401   Cécile de France             12.926   \n",
            "2083              8.922      Irán Castillo              4.111   \n",
            "2098             13.562     Heather Graham             20.946   \n",
            "2109              4.785  Thierry Lhermitte              2.354   \n",
            "2132              5.903         Stacy Rock              1.400   \n",
            "\n",
            "                    actor4  ...                      Director  \\\n",
            "0              Don Rickles  ...                   Lee Unkrich   \n",
            "1        Sterling Holloway  ...  Cecil M. Hepworth,Percy Stow   \n",
            "2     Helena Bonham Carter  ...                   David Yates   \n",
            "3                Tom Hardy  ...             Christopher Nolan   \n",
            "4         Antonio Banderas  ...                 Mike Mitchell   \n",
            "...                    ...  ...                           ...   \n",
            "2082         Jim Broadbent  ...                           NaN   \n",
            "2083        Joseph Marcell  ...             Alejandro Hidalgo   \n",
            "2098      Patrick Van Horn  ...     Andrejs Ekis,Dmitriy Fiks   \n",
            "2109        Patrick Timsit  ...                           NaN   \n",
            "2132         Skei Saulnier  ...               Jeremy Saulnier   \n",
            "\n",
            "                                               Producer  \\\n",
            "0                                     Darla K. Anderson   \n",
            "1                                                   NaN   \n",
            "2                David Heyman,David Barron,J.K. Rowling   \n",
            "3                         Christopher Nolan,Emma Thomas   \n",
            "4                                Gina Shay,Teresa Cheng   \n",
            "...                                                 ...   \n",
            "2082                                                NaN   \n",
            "2083  Antonio Abdo,Alejandro Hidalgo,Joel Seidl,Kari...   \n",
            "2098  Kristians Alhimionoks,Andrejs Ekis,Dmitriy Fik...   \n",
            "2109                                                NaN   \n",
            "2132                          Skei Saulnier,Chris Sharp   \n",
            "\n",
            "      Box Office (Gross USA)  Release-Date      Revenue  NumTheatres  \\\n",
            "0                415000000.0    2010-06-18  415004880.0          2.0   \n",
            "1                        NaN    2010-03-05  334191110.0          3.0   \n",
            "2                295000000.0    2010-11-19  280230127.0          7.0   \n",
            "3                292600000.0    2010-07-16  292558188.0          6.0   \n",
            "4                        NaN    2010-05-21  238736787.0          9.0   \n",
            "...                      ...           ...          ...          ...   \n",
            "2082                     NaN             0          NaN          NaN   \n",
            "2083                     NaN    2022-03-11          NaN          NaN   \n",
            "2098                     NaN    2022-01-27          NaN          NaN   \n",
            "2109                     NaN             0          NaN          NaN   \n",
            "2132                     NaN             0          NaN          NaN   \n",
            "\n",
            "                               Production   startdate  \\\n",
            "0     Walt Disney Studios Motion Pictures  2010-06-11   \n",
            "1     Walt Disney Studios Motion Pictures         NaN   \n",
            "2                            Warner Bros.  2010-11-12   \n",
            "3                            Warner Bros.  2010-07-09   \n",
            "4                              DreamWorks  2010-05-14   \n",
            "...                                   ...         ...   \n",
            "2082                                  NaN         NaN   \n",
            "2083                                  NaN         NaN   \n",
            "2098                                  NaN         NaN   \n",
            "2109                                  NaN         NaN   \n",
            "2132                                  NaN         NaN   \n",
            "\n",
            "      mean_google_trend_popularity     Revenue-1  \n",
            "0                           46.375  415004880.00  \n",
            "1                              NaN  334191110.00  \n",
            "2                           48.000  295983305.00  \n",
            "3                           33.500  292576195.00  \n",
            "4                           34.625  238736787.00  \n",
            "...                            ...           ...  \n",
            "2082                           NaN           NaN  \n",
            "2083                           NaN           NaN  \n",
            "2098                           NaN           NaN  \n",
            "2109                           NaN           NaN  \n",
            "2132                           NaN           NaN  \n",
            "\n",
            "[1456 rows x 42 columns]\n",
            "      Unnamed: 0  index                                   Movie Title  \\\n",
            "0              0      0                                   Toy Story 3   \n",
            "1              1      1                           Alice in Wonderland   \n",
            "2              2      2  Harry Potter and the Deathly Hallows: Part 1   \n",
            "3              4      4                                     Inception   \n",
            "4              5      5                           Shrek Forever After   \n",
            "...          ...    ...                                           ...   \n",
            "2082        2345   2325                   Around the World in 80 Days   \n",
            "2083        2346   2326                           The Exorcism of God   \n",
            "2098        2361   2341                                      Swingers   \n",
            "2109        2372   2352                                Alors on danse   \n",
            "2132        2395   2375                                  Murder Party   \n",
            "\n",
            "                 actor1  actor1_popularity                   actor2  \\\n",
            "0             Tom Hanks             27.299                Tim Allen   \n",
            "1      Kathryn Beaumont              3.164                  Ed Wynn   \n",
            "2      Daniel Radcliffe             24.549             Rupert Grint   \n",
            "3     Leonardo DiCaprio             24.953     Joseph Gordon-Levitt   \n",
            "4            Mike Myers             16.026             Eddie Murphy   \n",
            "...                 ...                ...                      ...   \n",
            "2082        Jackie Chan             26.273             Steve Coogan   \n",
            "2083     Will Beinbrink              4.679  María Gabriela de Faría   \n",
            "2098       Vince Vaughn             17.127              Jon Favreau   \n",
            "2109     Isabelle Nanty              9.095          Michèle Laroque   \n",
            "2132        Chris Sharp              0.677              Macon Blair   \n",
            "\n",
            "      actor2_popularity             actor3  actor3_popularity  \\\n",
            "0                18.361        Joan Cusack             14.925   \n",
            "1                 5.868      Richard Haydn              5.899   \n",
            "2                11.399        Emma Watson             69.598   \n",
            "3                20.585       Ken Watanabe             19.690   \n",
            "4                13.301       Cameron Diaz             18.596   \n",
            "...                 ...                ...                ...   \n",
            "2082              8.401   Cécile de France             12.926   \n",
            "2083              8.922      Irán Castillo              4.111   \n",
            "2098             13.562     Heather Graham             20.946   \n",
            "2109              4.785  Thierry Lhermitte              2.354   \n",
            "2132              5.903         Stacy Rock              1.400   \n",
            "\n",
            "                    actor4  ...  \\\n",
            "0              Don Rickles  ...   \n",
            "1        Sterling Holloway  ...   \n",
            "2     Helena Bonham Carter  ...   \n",
            "3                Tom Hardy  ...   \n",
            "4         Antonio Banderas  ...   \n",
            "...                    ...  ...   \n",
            "2082         Jim Broadbent  ...   \n",
            "2083        Joseph Marcell  ...   \n",
            "2098      Patrick Van Horn  ...   \n",
            "2109        Patrick Timsit  ...   \n",
            "2132         Skei Saulnier  ...   \n",
            "\n",
            "                                               Producer  \\\n",
            "0                                     Darla K. Anderson   \n",
            "1                                                   NaN   \n",
            "2                David Heyman,David Barron,J.K. Rowling   \n",
            "3                         Christopher Nolan,Emma Thomas   \n",
            "4                                Gina Shay,Teresa Cheng   \n",
            "...                                                 ...   \n",
            "2082                                                NaN   \n",
            "2083  Antonio Abdo,Alejandro Hidalgo,Joel Seidl,Kari...   \n",
            "2098  Kristians Alhimionoks,Andrejs Ekis,Dmitriy Fik...   \n",
            "2109                                                NaN   \n",
            "2132                          Skei Saulnier,Chris Sharp   \n",
            "\n",
            "     Box Office (Gross USA)  Release-Date      Revenue  NumTheatres  \\\n",
            "0               415000000.0    2010-06-18  415004880.0          2.0   \n",
            "1                       NaN    2010-03-05  334191110.0          3.0   \n",
            "2               295000000.0    2010-11-19  280230127.0          7.0   \n",
            "3               292600000.0    2010-07-16  292558188.0          6.0   \n",
            "4                       NaN    2010-05-21  238736787.0          9.0   \n",
            "...                     ...           ...          ...          ...   \n",
            "2082                    NaN             0          NaN          NaN   \n",
            "2083                    NaN    2022-03-11          NaN          NaN   \n",
            "2098                    NaN    2022-01-27          NaN          NaN   \n",
            "2109                    NaN             0          NaN          NaN   \n",
            "2132                    NaN             0          NaN          NaN   \n",
            "\n",
            "                               Production   startdate  \\\n",
            "0     Walt Disney Studios Motion Pictures  2010-06-11   \n",
            "1     Walt Disney Studios Motion Pictures         NaN   \n",
            "2                            Warner Bros.  2010-11-12   \n",
            "3                            Warner Bros.  2010-07-09   \n",
            "4                              DreamWorks  2010-05-14   \n",
            "...                                   ...         ...   \n",
            "2082                                  NaN         NaN   \n",
            "2083                                  NaN         NaN   \n",
            "2098                                  NaN         NaN   \n",
            "2109                                  NaN         NaN   \n",
            "2132                                  NaN         NaN   \n",
            "\n",
            "      mean_google_trend_popularity     Revenue-1 profit-percent  \n",
            "0                           46.375  415004880.00       4.334849  \n",
            "1                              NaN  334191110.00     340.822370  \n",
            "2                           48.000  295983305.00       2.906148  \n",
            "3                           33.500  292576195.00       4.163357  \n",
            "4                           34.625  238736787.00       3.561217  \n",
            "...                            ...           ...            ...  \n",
            "2082                           NaN           NaN      -0.981049  \n",
            "2083                           NaN           NaN       0.376446  \n",
            "2098                           NaN           NaN       4.844085  \n",
            "2109                           NaN           NaN      -0.899677  \n",
            "2132                           NaN           NaN       1.387316  \n",
            "\n",
            "[1456 rows x 43 columns]\n"
          ]
        },
        {
          "output_type": "stream",
          "name": "stderr",
          "text": [
            "/usr/local/lib/python3.7/dist-packages/ipykernel_launcher.py:7: SettingWithCopyWarning: \n",
            "A value is trying to be set on a copy of a slice from a DataFrame.\n",
            "Try using .loc[row_indexer,col_indexer] = value instead\n",
            "\n",
            "See the caveats in the documentation: https://pandas.pydata.org/pandas-docs/stable/user_guide/indexing.html#returning-a-view-versus-a-copy\n",
            "  import sys\n"
          ]
        }
      ]
    },
    {
      "cell_type": "code",
      "source": [
        "print(dfo)\n",
        "print(dfo['profit-percent'].tolist())"
      ],
      "metadata": {
        "id": "tBoqpK8i2dOn"
      },
      "execution_count": null,
      "outputs": []
    },
    {
      "cell_type": "code",
      "source": [
        "print(dfo['Score_Audience'].isna().sum())\n",
        "df1 = dfo[dfo['Score_Audience'].notna()]\n",
        "\n",
        "correlation = df1['Score_Audience'].corr(df1['profit-percent'])\n",
        "print(correlation)"
      ],
      "metadata": {
        "colab": {
          "base_uri": "https://localhost:8080/"
        },
        "id": "CYtps2W22pcm",
        "outputId": "250a093a-f9a3-48aa-c04b-d90c081a6e6c"
      },
      "execution_count": null,
      "outputs": [
        {
          "output_type": "stream",
          "name": "stdout",
          "text": [
            "134\n",
            "-0.016557195154171225\n"
          ]
        }
      ]
    },
    {
      "cell_type": "code",
      "source": [
        "print(dfo['numVotes'].isna().sum())\n",
        "df1 = dfo[dfo['numVotes'].notna()]\n",
        "\n",
        "correlation = df1['numVotes'].corr(df1['profit-percent'])\n",
        "print(correlation)"
      ],
      "metadata": {
        "colab": {
          "base_uri": "https://localhost:8080/"
        },
        "id": "Zzsemqvc2_a1",
        "outputId": "097cf8dc-6d6b-4c54-c424-60ae1720b6ff"
      },
      "execution_count": null,
      "outputs": [
        {
          "output_type": "stream",
          "name": "stdout",
          "text": [
            "0\n",
            "-0.021100171044879233\n"
          ]
        }
      ]
    },
    {
      "cell_type": "code",
      "source": [
        "print(dfo['tmdb_popularity'].isna().sum())\n",
        "df1 = dfo[dfo['tmdb_popularity'].notna()]\n",
        "\n",
        "correlation = df1['tmdb_popularity'].corr(df1['profit-percent'])\n",
        "print(correlation)"
      ],
      "metadata": {
        "colab": {
          "base_uri": "https://localhost:8080/"
        },
        "id": "gfR-RXN33NiO",
        "outputId": "7a9f477d-b116-4f16-f4f8-68aebcee9f6b"
      },
      "execution_count": null,
      "outputs": [
        {
          "output_type": "stream",
          "name": "stdout",
          "text": [
            "0\n",
            "-0.00774957481259853\n"
          ]
        }
      ]
    },
    {
      "cell_type": "code",
      "source": [
        "print(dfo['Score_Rotten'].isna().sum())\n",
        "df1 = dfo[dfo['Score_Rotten'].notna()]\n",
        "\n",
        "correlation = df1['Score_Rotten'].corr(df1['profit-percent'])\n",
        "print(correlation)"
      ],
      "metadata": {
        "colab": {
          "base_uri": "https://localhost:8080/"
        },
        "id": "VwToIv1s3VNB",
        "outputId": "f24598a7-b56e-4621-ac22-2aa77cce55cc"
      },
      "execution_count": null,
      "outputs": [
        {
          "output_type": "stream",
          "name": "stdout",
          "text": [
            "178\n",
            "0.01440515196560355\n"
          ]
        }
      ]
    },
    {
      "cell_type": "code",
      "source": [
        "print(dfo['mean_google_trend_popularity'].isna().sum())\n",
        "df1 = dfo[dfo['mean_google_trend_popularity'].notna()]\n",
        "\n",
        "correlation = df1['mean_google_trend_popularity'].corr(df1['profit-percent'])\n",
        "print(correlation)"
      ],
      "metadata": {
        "colab": {
          "base_uri": "https://localhost:8080/"
        },
        "id": "g-ZT8m_n3ccL",
        "outputId": "d53ff8af-1349-4724-ee24-0eafeedb2d44"
      },
      "execution_count": null,
      "outputs": [
        {
          "output_type": "stream",
          "name": "stdout",
          "text": [
            "151\n",
            "-0.037702433904554654\n"
          ]
        }
      ]
    },
    {
      "cell_type": "code",
      "source": [
        "df= pd.read_csv(\"/content/gdrive/MyDrive/complete-date-pop.csv\", encoding='utf-8')"
      ],
      "metadata": {
        "id": "Ok0uEEFPDNP_"
      },
      "execution_count": null,
      "outputs": []
    },
    {
      "cell_type": "code",
      "source": [
        "print(df)"
      ],
      "metadata": {
        "colab": {
          "base_uri": "https://localhost:8080/"
        },
        "id": "zhSZgZmSG4UP",
        "outputId": "55a54df8-8042-4de6-e20d-b6db46d6092a"
      },
      "execution_count": null,
      "outputs": [
        {
          "output_type": "stream",
          "name": "stdout",
          "text": [
            "      Unnamed: 0  Unnamed: 0.1  Unnamed: 0.1.1  index  \\\n",
            "0              0             0               0      0   \n",
            "1              1             1               1      1   \n",
            "2              2             2               2      2   \n",
            "3              3             3               4      4   \n",
            "4              4             4               5      5   \n",
            "...          ...           ...             ...    ...   \n",
            "2167        2167          2167            2431   2411   \n",
            "2168        2168          2168            2432   2412   \n",
            "2169        2169          2169            2433   2413   \n",
            "2170        2170          2170            2434   2414   \n",
            "2171        2171          2171            2435   2415   \n",
            "\n",
            "                                       Movie Title              actor1  \\\n",
            "0                                      Toy Story 3           Tom Hanks   \n",
            "1                              Alice in Wonderland    Kathryn Beaumont   \n",
            "2     Harry Potter and the Deathly Hallows: Part 1    Daniel Radcliffe   \n",
            "3                                        Inception   Leonardo DiCaprio   \n",
            "4                              Shrek Forever After          Mike Myers   \n",
            "...                                            ...                 ...   \n",
            "2167                                  Arthur Rambo  Rabah Nait Oufella   \n",
            "2168                             Bachchhan Paandey        Akshay Kumar   \n",
            "2169                                      Kernagis   Vytautas Kernagis   \n",
            "2170                                   Stop-Zemlia   Maria Fedorchenko   \n",
            "2171                     Listeners: The Whispering            Quang Sự   \n",
            "\n",
            "      actor1_popularity                actor2  actor2_popularity  \\\n",
            "0                27.299             Tim Allen             18.361   \n",
            "1                 3.164               Ed Wynn              5.868   \n",
            "2                24.549          Rupert Grint             11.399   \n",
            "3                24.953  Joseph Gordon-Levitt             20.585   \n",
            "4                16.026          Eddie Murphy             13.301   \n",
            "...                 ...                   ...                ...   \n",
            "2167              4.588      Antoine Reinartz              2.234   \n",
            "2168              3.945           Kriti Sanon              6.833   \n",
            "2169              0.652      Dalia Kernagienė              0.600   \n",
            "2170              0.600        Arsenii Markov              0.600   \n",
            "2171              0.600             Oanh Kiều              3.525   \n",
            "\n",
            "                    actor3  ...  Box Office (Gross USA) Release-Date  \\\n",
            "0              Joan Cusack  ...               415000000    6/18/2010   \n",
            "1            Richard Haydn  ...                     NaN     3/5/2010   \n",
            "2              Emma Watson  ...               295000000   11/19/2010   \n",
            "3             Ken Watanabe  ...               292600000    7/16/2010   \n",
            "4             Cameron Diaz  ...                     NaN    5/21/2010   \n",
            "...                    ...  ...                     ...          ...   \n",
            "2167     Aleksandra Yermak  ...                     NaN            0   \n",
            "2168  Jacqueline Fernandez  ...                     NaN    3/18/2022   \n",
            "2169        Eglė Kernagytė  ...                     NaN            0   \n",
            "2170         Yana Isaienko  ...                     NaN    1/21/2022   \n",
            "2171        Phạm Quỳnh Anh  ...                     NaN            0   \n",
            "\n",
            "          Revenue NumTheatres                           Production  \\\n",
            "0     415004880.0         2.0  Walt Disney Studios Motion Pictures   \n",
            "1     334191110.0         3.0  Walt Disney Studios Motion Pictures   \n",
            "2     280230127.0         7.0                         Warner Bros.   \n",
            "3     292558188.0         6.0                         Warner Bros.   \n",
            "4     238736787.0         9.0                           DreamWorks   \n",
            "...           ...         ...                                  ...   \n",
            "2167          NaN         NaN                                  NaN   \n",
            "2168          NaN         NaN                                  NaN   \n",
            "2169          NaN         NaN                                  NaN   \n",
            "2170          NaN         NaN                                  NaN   \n",
            "2171          NaN         NaN                                  NaN   \n",
            "\n",
            "       startdate  mean_google_trend_popularity    Revenue-1  \\\n",
            "0      6/11/2010                        46.375  415004880.0   \n",
            "1            NaN                           NaN  334191110.0   \n",
            "2     11/12/2010                        48.000  295983305.0   \n",
            "3       7/9/2010                        33.500  292576195.0   \n",
            "4      5/14/2010                        34.625  238736787.0   \n",
            "...          ...                           ...          ...   \n",
            "2167         NaN                           NaN          NaN   \n",
            "2168         NaN                           NaN          NaN   \n",
            "2169         NaN                           NaN          NaN   \n",
            "2170         NaN                           NaN          NaN   \n",
            "2171         NaN                           NaN          NaN   \n",
            "\n",
            "      director_popularity  producer_popularity  \n",
            "0                   4.140             1.388000  \n",
            "1                   0.000            15.264000  \n",
            "2                  14.088             6.070667  \n",
            "3                  15.857            14.426000  \n",
            "4                   5.691             1.890500  \n",
            "...                   ...                  ...  \n",
            "2167                1.400             0.600000  \n",
            "2168                2.750             1.631500  \n",
            "2169               15.264            15.264000  \n",
            "2170                2.887             0.795000  \n",
            "2171               15.264            15.264000  \n",
            "\n",
            "[2172 rows x 46 columns]\n"
          ]
        }
      ]
    },
    {
      "cell_type": "code",
      "source": [
        "df1= pd.read_csv(\"/content/gdrive/MyDrive/budget - Sheet1.csv\", encoding='utf-8')\n"
      ],
      "metadata": {
        "id": "lCZ6ygvMXW61"
      },
      "execution_count": null,
      "outputs": []
    },
    {
      "cell_type": "code",
      "source": [
        "print(df1)"
      ],
      "metadata": {
        "colab": {
          "base_uri": "https://localhost:8080/"
        },
        "id": "81TugFb4X46s",
        "outputId": "d5b59618-964b-4e25-a192-cc528a19d414"
      },
      "execution_count": null,
      "outputs": [
        {
          "output_type": "stream",
          "name": "stdout",
          "text": [
            "      Release-date                 Movie       Budget      revenue  \\\n",
            "0      Jan 8, 2010             Leap Year  $19,000,000  $25,918,920   \n",
            "1      Jan 8, 2010       Youth in Revolt  $18,000,000  $15,285,588   \n",
            "2     Jan 15, 2010       The Book of Eli  $80,000,000  $94,835,059   \n",
            "3     Jan 15, 2010             Fish Tank   $3,000,000     $374,675   \n",
            "4     Jan 15, 2010     The Spy Next Door  $28,000,000  $24,307,106   \n",
            "...            ...                   ...          ...          ...   \n",
            "2532       Unknown  I Come with the Rain  $18,000,000           $0   \n",
            "2533       Unknown                Taxi 4  $17,500,000           $0   \n",
            "2534       Unknown  Arn - Tempelriddaren  $16,500,000           $0   \n",
            "2535       Unknown               Bathory  $15,000,000           $0   \n",
            "2536       Unknown                  Ca$h  $13,700,000           $0   \n",
            "\n",
            "          wrevenue  \n",
            "0      $32,618,920  \n",
            "1      $19,685,588  \n",
            "2     $158,750,817  \n",
            "3       $5,922,292  \n",
            "4      $46,752,858  \n",
            "...            ...  \n",
            "2532      $627,422  \n",
            "2533   $60,865,364  \n",
            "2534   $21,404,122  \n",
            "2535    $3,436,763  \n",
            "2536   $11,738,256  \n",
            "\n",
            "[2537 rows x 5 columns]\n"
          ]
        }
      ]
    },
    {
      "cell_type": "code",
      "source": [
        "df2 = df[df.budget == 0.0]"
      ],
      "metadata": {
        "id": "JmGqt_jPYIWS"
      },
      "execution_count": null,
      "outputs": []
    },
    {
      "cell_type": "code",
      "source": [
        "print(df2)"
      ],
      "metadata": {
        "colab": {
          "base_uri": "https://localhost:8080/"
        },
        "id": "pM7bNf9XYSMF",
        "outputId": "d8916f0e-cb67-4bf0-892c-bc2c0d28eb32"
      },
      "execution_count": null,
      "outputs": [
        {
          "output_type": "stream",
          "name": "stdout",
          "text": [
            "      Unnamed: 0  Unnamed: 0.1  Unnamed: 0.1.1  index  \\\n",
            "60            60            60              77     75   \n",
            "63            63            63              80     78   \n",
            "71            71            71              89     87   \n",
            "78            78            78              96     94   \n",
            "79            79            79              97     95   \n",
            "...          ...           ...             ...    ...   \n",
            "2167        2167          2167            2431   2411   \n",
            "2168        2168          2168            2432   2412   \n",
            "2169        2169          2169            2433   2413   \n",
            "2170        2170          2170            2434   2414   \n",
            "2171        2171          2171            2435   2415   \n",
            "\n",
            "                                  Movie Title              actor1  \\\n",
            "60                        Let the Bullets Fly        Chow Yun-Fat   \n",
            "63                Umizaru 3: The Last Message         Hideaki Ito   \n",
            "71    Bayside Shakedown 3: Set the Guys Loose            Yuji Oda   \n",
            "78                       Diary of a Wimpy Kid          Brady Noon   \n",
            "79                       If You Are the One 2              Ge You   \n",
            "...                                       ...                 ...   \n",
            "2167                             Arthur Rambo  Rabah Nait Oufella   \n",
            "2168                        Bachchhan Paandey        Akshay Kumar   \n",
            "2169                                 Kernagis   Vytautas Kernagis   \n",
            "2170                              Stop-Zemlia   Maria Fedorchenko   \n",
            "2171                Listeners: The Whispering            Quang Sự   \n",
            "\n",
            "      actor1_popularity                   actor2  actor2_popularity  \\\n",
            "60               13.342                   Ge You              3.421   \n",
            "63                9.538                  Ai Kato              1.400   \n",
            "71                2.769              Eri Fukatsu              4.737   \n",
            "78                5.968  Ethan William Childress              1.749   \n",
            "79                3.421                   Shu Qi             15.112   \n",
            "...                 ...                      ...                ...   \n",
            "2167              4.588         Antoine Reinartz              2.234   \n",
            "2168              3.945              Kriti Sanon              6.833   \n",
            "2169              0.652         Dalia Kernagienė              0.600   \n",
            "2170              0.600           Arsenii Markov              0.600   \n",
            "2171              0.600                Oanh Kiều              3.525   \n",
            "\n",
            "                    actor3  ...  Box Office (Gross USA) Release-Date  \\\n",
            "60               Jiang Wen  ...                   60.0K     3/2/2012   \n",
            "63                  Karina  ...                     NaN            0   \n",
            "71       Yūsuke Santamaria  ...                     NaN            0   \n",
            "78           Hunter Dillon  ...                     NaN    3/19/2010   \n",
            "79             Sun Honglei  ...                     NaN            0   \n",
            "...                    ...  ...                     ...          ...   \n",
            "2167     Aleksandra Yermak  ...                     NaN            0   \n",
            "2168  Jacqueline Fernandez  ...                     NaN    3/18/2022   \n",
            "2169        Eglė Kernagytė  ...                     NaN            0   \n",
            "2170         Yana Isaienko  ...                     NaN    1/21/2022   \n",
            "2171        Phạm Quỳnh Anh  ...                     NaN            0   \n",
            "\n",
            "         Revenue NumTheatres             Production  startdate  \\\n",
            "60           NaN         NaN                    NaN  2/24/2012   \n",
            "63           NaN         NaN                    NaN        NaN   \n",
            "71           NaN         NaN                    NaN        NaN   \n",
            "78    64003625.0        48.0  Twentieth Century Fox  3/12/2010   \n",
            "79           NaN         NaN                    NaN        NaN   \n",
            "...          ...         ...                    ...        ...   \n",
            "2167         NaN         NaN                    NaN        NaN   \n",
            "2168         NaN         NaN                    NaN        NaN   \n",
            "2169         NaN         NaN                    NaN        NaN   \n",
            "2170         NaN         NaN                    NaN        NaN   \n",
            "2171         NaN         NaN                    NaN        NaN   \n",
            "\n",
            "      mean_google_trend_popularity   Revenue-1  director_popularity  \\\n",
            "60                          47.125         NaN                0.600   \n",
            "63                             NaN         NaN               15.264   \n",
            "71                             NaN         NaN               15.264   \n",
            "78                          49.750  64003625.0                4.294   \n",
            "79                             NaN         NaN                5.947   \n",
            "...                            ...         ...                  ...   \n",
            "2167                           NaN         NaN                1.400   \n",
            "2168                           NaN         NaN                2.750   \n",
            "2169                           NaN         NaN               15.264   \n",
            "2170                           NaN         NaN                2.887   \n",
            "2171                           NaN         NaN               15.264   \n",
            "\n",
            "      producer_popularity  \n",
            "60                 2.1412  \n",
            "63                15.2640  \n",
            "71                15.2640  \n",
            "78                 3.1990  \n",
            "79                 3.5195  \n",
            "...                   ...  \n",
            "2167               0.6000  \n",
            "2168               1.6315  \n",
            "2169              15.2640  \n",
            "2170               0.7950  \n",
            "2171              15.2640  \n",
            "\n",
            "[716 rows x 46 columns]\n"
          ]
        }
      ]
    },
    {
      "cell_type": "code",
      "source": [
        "df1['Movie Title'] = df1['Movie']"
      ],
      "metadata": {
        "id": "v0nLVqJwYZIg"
      },
      "execution_count": null,
      "outputs": []
    },
    {
      "cell_type": "code",
      "source": [
        "df1 = df1.drop('Movie',axis=1)"
      ],
      "metadata": {
        "id": "n17tJ8VhYjqk"
      },
      "execution_count": null,
      "outputs": []
    },
    {
      "cell_type": "code",
      "source": [
        "print(df1)"
      ],
      "metadata": {
        "colab": {
          "base_uri": "https://localhost:8080/"
        },
        "id": "J-sH_zrfYL7n",
        "outputId": "cfe1fc51-2239-4ea2-8d5f-71ba708f0012"
      },
      "execution_count": null,
      "outputs": [
        {
          "output_type": "stream",
          "name": "stdout",
          "text": [
            "      Release-date       Budget      revenue      wrevenue  \\\n",
            "0      Jan 8, 2010  $19,000,000  $25,918,920   $32,618,920   \n",
            "1      Jan 8, 2010  $18,000,000  $15,285,588   $19,685,588   \n",
            "2     Jan 15, 2010  $80,000,000  $94,835,059  $158,750,817   \n",
            "3     Jan 15, 2010   $3,000,000     $374,675    $5,922,292   \n",
            "4     Jan 15, 2010  $28,000,000  $24,307,106   $46,752,858   \n",
            "...            ...          ...          ...           ...   \n",
            "2532       Unknown  $18,000,000           $0      $627,422   \n",
            "2533       Unknown  $17,500,000           $0   $60,865,364   \n",
            "2534       Unknown  $16,500,000           $0   $21,404,122   \n",
            "2535       Unknown  $15,000,000           $0    $3,436,763   \n",
            "2536       Unknown  $13,700,000           $0   $11,738,256   \n",
            "\n",
            "               Movie Title  \n",
            "0                Leap Year  \n",
            "1          Youth in Revolt  \n",
            "2          The Book of Eli  \n",
            "3                Fish Tank  \n",
            "4        The Spy Next Door  \n",
            "...                    ...  \n",
            "2532  I Come with the Rain  \n",
            "2533                Taxi 4  \n",
            "2534  Arn - Tempelriddaren  \n",
            "2535               Bathory  \n",
            "2536                  Ca$h  \n",
            "\n",
            "[2537 rows x 5 columns]\n"
          ]
        }
      ]
    }
  ]
}